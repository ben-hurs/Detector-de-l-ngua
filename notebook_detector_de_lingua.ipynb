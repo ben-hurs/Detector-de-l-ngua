{
 "cells": [
  {
   "cell_type": "markdown",
   "id": "13e89fe2",
   "metadata": {},
   "source": [
    "# Detector de língua"
   ]
  },
  {
   "cell_type": "markdown",
   "id": "5a1f84f8",
   "metadata": {},
   "source": [
    "## Objetivo\n",
    "\n",
    "Elaborar uma estratégia e construa um sistema que seja capaz de responder a qual idioma uma frase qualquer pertence.\n",
    "\n",
    "Por Exemplo:\n",
    "\n",
    "`eu gosto de café` → `por`\n",
    "\n",
    "`I like coffee`→ `eng`"
   ]
  },
  {
   "cell_type": "markdown",
   "id": "3bcc448c",
   "metadata": {},
   "source": [
    "## Bibliotecas"
   ]
  },
  {
   "cell_type": "code",
   "execution_count": 30,
   "id": "a4fda78f",
   "metadata": {},
   "outputs": [],
   "source": [
    "# manipulação de dados\n",
    "import pandas as pd\n",
    "\n",
    "# manipulação de texto\n",
    "\n",
    "# modelo\n",
    "from sklearn.feature_extraction.text import CountVectorizer\n",
    "from sklearn.model_selection import train_test_split\n",
    "from sklearn.ensemble import GradientBoostingClassifier\n",
    "from sklearn.metrics import accuracy_score, confusion_matrix\n",
    "from tensorflow import keras\n",
    "from tensorflow.keras import layers\n",
    "from tensorflow.keras.callbacks import EarlyStopping\n",
    "\n",
    "# exportar o modelo\n",
    "import joblib"
   ]
  },
  {
   "cell_type": "markdown",
   "id": "837152d3",
   "metadata": {},
   "source": [
    "## Base de Dados\n",
    "\n",
    "Dessa vez encontrei uma base de dados contendo frases em seus respectivos idiomas Afrikaans, English e Nederlands (africano, inglês e holandês). Queria achar alguma em português mas não consegui.\n",
    "\n",
    "Disponível no seguinte repositório do github: https://github.com/rolandgem/LanguageClassification/tree/main"
   ]
  },
  {
   "cell_type": "markdown",
   "id": "ebc8acd6",
   "metadata": {},
   "source": [
    "## Leitura dos dados "
   ]
  },
  {
   "cell_type": "code",
   "execution_count": 2,
   "id": "dd26aae4",
   "metadata": {},
   "outputs": [
    {
     "data": {
      "text/html": [
       "<div>\n",
       "<style scoped>\n",
       "    .dataframe tbody tr th:only-of-type {\n",
       "        vertical-align: middle;\n",
       "    }\n",
       "\n",
       "    .dataframe tbody tr th {\n",
       "        vertical-align: top;\n",
       "    }\n",
       "\n",
       "    .dataframe thead th {\n",
       "        text-align: right;\n",
       "    }\n",
       "</style>\n",
       "<table border=\"1\" class=\"dataframe\">\n",
       "  <thead>\n",
       "    <tr style=\"text-align: right;\">\n",
       "      <th></th>\n",
       "      <th>text</th>\n",
       "      <th>language</th>\n",
       "    </tr>\n",
       "  </thead>\n",
       "  <tbody>\n",
       "    <tr>\n",
       "      <th>0</th>\n",
       "      <td>Ship shape and Bristol fashion</td>\n",
       "      <td>English</td>\n",
       "    </tr>\n",
       "    <tr>\n",
       "      <th>1</th>\n",
       "      <td>Know the ropes</td>\n",
       "      <td>English</td>\n",
       "    </tr>\n",
       "    <tr>\n",
       "      <th>2</th>\n",
       "      <td>Graveyard shift</td>\n",
       "      <td>English</td>\n",
       "    </tr>\n",
       "    <tr>\n",
       "      <th>3</th>\n",
       "      <td>Milk of human kindness</td>\n",
       "      <td>English</td>\n",
       "    </tr>\n",
       "    <tr>\n",
       "      <th>4</th>\n",
       "      <td>Touch with a barge-pole - Wouldn't</td>\n",
       "      <td>English</td>\n",
       "    </tr>\n",
       "  </tbody>\n",
       "</table>\n",
       "</div>"
      ],
      "text/plain": [
       "                                 text language\n",
       "0      Ship shape and Bristol fashion  English\n",
       "1                      Know the ropes  English\n",
       "2                     Graveyard shift  English\n",
       "3              Milk of human kindness  English\n",
       "4  Touch with a barge-pole - Wouldn't  English"
      ]
     },
     "execution_count": 2,
     "metadata": {},
     "output_type": "execute_result"
    }
   ],
   "source": [
    "df = pd.read_csv('lang_data.csv')\n",
    "df.head()"
   ]
  },
  {
   "cell_type": "code",
   "execution_count": 3,
   "id": "dfe1febe",
   "metadata": {},
   "outputs": [
    {
     "data": {
      "text/html": [
       "<div>\n",
       "<style scoped>\n",
       "    .dataframe tbody tr th:only-of-type {\n",
       "        vertical-align: middle;\n",
       "    }\n",
       "\n",
       "    .dataframe tbody tr th {\n",
       "        vertical-align: top;\n",
       "    }\n",
       "\n",
       "    .dataframe thead th {\n",
       "        text-align: right;\n",
       "    }\n",
       "</style>\n",
       "<table border=\"1\" class=\"dataframe\">\n",
       "  <thead>\n",
       "    <tr style=\"text-align: right;\">\n",
       "      <th></th>\n",
       "      <th>text</th>\n",
       "      <th>language</th>\n",
       "    </tr>\n",
       "  </thead>\n",
       "  <tbody>\n",
       "    <tr>\n",
       "      <th>0</th>\n",
       "      <td>Ship shape and Bristol fashion</td>\n",
       "      <td>English</td>\n",
       "    </tr>\n",
       "    <tr>\n",
       "      <th>1</th>\n",
       "      <td>Know the ropes</td>\n",
       "      <td>English</td>\n",
       "    </tr>\n",
       "    <tr>\n",
       "      <th>2</th>\n",
       "      <td>Graveyard shift</td>\n",
       "      <td>English</td>\n",
       "    </tr>\n",
       "    <tr>\n",
       "      <th>3</th>\n",
       "      <td>Milk of human kindness</td>\n",
       "      <td>English</td>\n",
       "    </tr>\n",
       "    <tr>\n",
       "      <th>4</th>\n",
       "      <td>Touch with a barge-pole - Wouldn't</td>\n",
       "      <td>English</td>\n",
       "    </tr>\n",
       "    <tr>\n",
       "      <th>...</th>\n",
       "      <td>...</td>\n",
       "      <td>...</td>\n",
       "    </tr>\n",
       "    <tr>\n",
       "      <th>2834</th>\n",
       "      <td>Daar’s ‘n geurtjie aan.</td>\n",
       "      <td>Afrikaans</td>\n",
       "    </tr>\n",
       "    <tr>\n",
       "      <th>2835</th>\n",
       "      <td>Men's evil manners live in brass; their virtue...</td>\n",
       "      <td>English</td>\n",
       "    </tr>\n",
       "    <tr>\n",
       "      <th>2836</th>\n",
       "      <td>Go-faster</td>\n",
       "      <td>English</td>\n",
       "    </tr>\n",
       "    <tr>\n",
       "      <th>2837</th>\n",
       "      <td>Red tape</td>\n",
       "      <td>English</td>\n",
       "    </tr>\n",
       "    <tr>\n",
       "      <th>2838</th>\n",
       "      <td>In a pickle</td>\n",
       "      <td>English</td>\n",
       "    </tr>\n",
       "  </tbody>\n",
       "</table>\n",
       "<p>2839 rows × 2 columns</p>\n",
       "</div>"
      ],
      "text/plain": [
       "                                                   text   language\n",
       "0                        Ship shape and Bristol fashion    English\n",
       "1                                        Know the ropes    English\n",
       "2                                       Graveyard shift    English\n",
       "3                                Milk of human kindness    English\n",
       "4                    Touch with a barge-pole - Wouldn't    English\n",
       "...                                                 ...        ...\n",
       "2834                            Daar’s ‘n geurtjie aan.  Afrikaans\n",
       "2835  Men's evil manners live in brass; their virtue...    English\n",
       "2836                                          Go-faster    English\n",
       "2837                                           Red tape    English\n",
       "2838                                        In a pickle    English\n",
       "\n",
       "[2839 rows x 2 columns]"
      ]
     },
     "execution_count": 3,
     "metadata": {},
     "output_type": "execute_result"
    }
   ],
   "source": [
    "df"
   ]
  },
  {
   "cell_type": "code",
   "execution_count": 4,
   "id": "121428ba",
   "metadata": {},
   "outputs": [
    {
     "data": {
      "text/plain": [
       "(2839, 2)"
      ]
     },
     "execution_count": 4,
     "metadata": {},
     "output_type": "execute_result"
    }
   ],
   "source": [
    "df.shape"
   ]
  },
  {
   "cell_type": "code",
   "execution_count": 5,
   "id": "c41ec5ca",
   "metadata": {},
   "outputs": [
    {
     "data": {
      "text/plain": [
       "84"
      ]
     },
     "execution_count": 5,
     "metadata": {},
     "output_type": "execute_result"
    }
   ],
   "source": [
    "df.duplicated().sum()"
   ]
  },
  {
   "cell_type": "code",
   "execution_count": 6,
   "id": "22178c56",
   "metadata": {},
   "outputs": [
    {
     "data": {
      "text/plain": [
       "0"
      ]
     },
     "execution_count": 6,
     "metadata": {},
     "output_type": "execute_result"
    }
   ],
   "source": [
    "df.drop_duplicates(inplace=True)\n",
    "df.duplicated().sum()"
   ]
  },
  {
   "cell_type": "code",
   "execution_count": 7,
   "id": "71300dfb",
   "metadata": {},
   "outputs": [
    {
     "data": {
      "text/plain": [
       "text        3\n",
       "language    0\n",
       "dtype: int64"
      ]
     },
     "execution_count": 7,
     "metadata": {},
     "output_type": "execute_result"
    }
   ],
   "source": [
    "df.isnull().sum()"
   ]
  },
  {
   "cell_type": "code",
   "execution_count": 8,
   "id": "e49a1e55",
   "metadata": {},
   "outputs": [
    {
     "data": {
      "text/plain": [
       "text        0\n",
       "language    0\n",
       "dtype: int64"
      ]
     },
     "execution_count": 8,
     "metadata": {},
     "output_type": "execute_result"
    }
   ],
   "source": [
    "df.dropna(inplace=True)\n",
    "df.isnull().sum()"
   ]
  },
  {
   "cell_type": "code",
   "execution_count": 9,
   "id": "896107ec",
   "metadata": {},
   "outputs": [
    {
     "data": {
      "text/plain": [
       "(2752, 2)"
      ]
     },
     "execution_count": 9,
     "metadata": {},
     "output_type": "execute_result"
    }
   ],
   "source": [
    "df.shape"
   ]
  },
  {
   "cell_type": "code",
   "execution_count": 10,
   "id": "d304f5ac",
   "metadata": {},
   "outputs": [
    {
     "data": {
      "text/plain": [
       "English       74.382267\n",
       "Afrikaans     23.183140\n",
       "Nederlands     2.434593\n",
       "Name: language, dtype: float64"
      ]
     },
     "execution_count": 10,
     "metadata": {},
     "output_type": "execute_result"
    }
   ],
   "source": [
    "percentual_lingua = df['language'].value_counts(normalize=True) * 100\n",
    "percentual_lingua\n"
   ]
  },
  {
   "cell_type": "markdown",
   "id": "4bb4862a",
   "metadata": {},
   "source": [
    "**Temos muito pouca amostra de textos em holandês**"
   ]
  },
  {
   "cell_type": "markdown",
   "id": "6cf83926",
   "metadata": {},
   "source": [
    "## Preparação dos textos"
   ]
  },
  {
   "cell_type": "markdown",
   "id": "4370f6e4",
   "metadata": {},
   "source": [
    "### Stop Words\n",
    "\n",
    "Aqui teremos que separar as 3 línguas e usar pacotes para remover as stop words dos 3 idiomas distintos."
   ]
  },
  {
   "cell_type": "code",
   "execution_count": 11,
   "id": "26a076de",
   "metadata": {},
   "outputs": [],
   "source": [
    "df1 = df.copy()\n",
    "\n",
    "df_africano = df1[df1['language'] == 'Afrikaans']\n",
    "df_ingles = df1[df1['language'] == 'English']\n",
    "df_holandes = df1[df1['language'] == 'Nederlands']"
   ]
  },
  {
   "cell_type": "markdown",
   "id": "e92f9f6f",
   "metadata": {},
   "source": [
    "Encontrei os stop words no repositório do github -> https://github.com/6/stopwords-json?tab=readme-ov-file\n",
    "\n",
    "Tentei usar o pacote nltk, mas acho que eles não tem para africanos e holandeses então resolvi usar o que tem todos no mesmo lugar."
   ]
  },
  {
   "cell_type": "code",
   "execution_count": 12,
   "id": "6709106c",
   "metadata": {},
   "outputs": [
    {
     "name": "stderr",
     "output_type": "stream",
     "text": [
      "C:\\Users\\Ben-Hur\\AppData\\Local\\Temp\\ipykernel_15004\\399999869.py:12: SettingWithCopyWarning: \n",
      "A value is trying to be set on a copy of a slice from a DataFrame.\n",
      "Try using .loc[row_indexer,col_indexer] = value instead\n",
      "\n",
      "See the caveats in the documentation: https://pandas.pydata.org/pandas-docs/stable/user_guide/indexing.html#returning-a-view-versus-a-copy\n",
      "  df_africano['text'] = df_africano['text'].apply(remover_stopwords)\n"
     ]
    },
    {
     "data": {
      "text/html": [
       "<div>\n",
       "<style scoped>\n",
       "    .dataframe tbody tr th:only-of-type {\n",
       "        vertical-align: middle;\n",
       "    }\n",
       "\n",
       "    .dataframe tbody tr th {\n",
       "        vertical-align: top;\n",
       "    }\n",
       "\n",
       "    .dataframe thead th {\n",
       "        text-align: right;\n",
       "    }\n",
       "</style>\n",
       "<table border=\"1\" class=\"dataframe\">\n",
       "  <thead>\n",
       "    <tr style=\"text-align: right;\">\n",
       "      <th></th>\n",
       "      <th>text</th>\n",
       "      <th>language</th>\n",
       "    </tr>\n",
       "  </thead>\n",
       "  <tbody>\n",
       "    <tr>\n",
       "      <th>5</th>\n",
       "      <td>Sy kan altyd my battery natpiepie.</td>\n",
       "      <td>Afrikaans</td>\n",
       "    </tr>\n",
       "    <tr>\n",
       "      <th>16</th>\n",
       "      <td>Piet Pompies van Soetmelksvlei is nie van hier...</td>\n",
       "      <td>Afrikaans</td>\n",
       "    </tr>\n",
       "    <tr>\n",
       "      <th>28</th>\n",
       "      <td>Die lewe is 10 % wat met ons gebeur en 90 % on...</td>\n",
       "      <td>Afrikaans</td>\n",
       "    </tr>\n",
       "    <tr>\n",
       "      <th>31</th>\n",
       "      <td>Saam met ons, rondom ons, in ons en by ons is ...</td>\n",
       "      <td>Afrikaans</td>\n",
       "    </tr>\n",
       "    <tr>\n",
       "      <th>35</th>\n",
       "      <td>Vroeg uit die bed, maak die beursie vet!</td>\n",
       "      <td>Afrikaans</td>\n",
       "    </tr>\n",
       "  </tbody>\n",
       "</table>\n",
       "</div>"
      ],
      "text/plain": [
       "                                                 text   language\n",
       "5                  Sy kan altyd my battery natpiepie.  Afrikaans\n",
       "16  Piet Pompies van Soetmelksvlei is nie van hier...  Afrikaans\n",
       "28  Die lewe is 10 % wat met ons gebeur en 90 % on...  Afrikaans\n",
       "31  Saam met ons, rondom ons, in ons en by ons is ...  Afrikaans\n",
       "35           Vroeg uit die bed, maak die beursie vet!  Afrikaans"
      ]
     },
     "execution_count": 12,
     "metadata": {},
     "output_type": "execute_result"
    }
   ],
   "source": [
    "# Começando com os africanos\n",
    "with open('stop_words/afrikaans_stopwords.txt', 'r', encoding='utf-8') as arquivo:\n",
    "    stopwords_lista = arquivo.read().splitlines()\n",
    "\n",
    "# Função para remover as stop words do texto\n",
    "def remover_stopwords(texto):\n",
    "    palavras = texto.split()\n",
    "    palavras_sem_stopwords = [palavra for palavra in palavras if palavra.lower() not in stopwords_lista]\n",
    "    return ' '.join(palavras_sem_stopwords)\n",
    "\n",
    "\n",
    "df_africano['text'] = df_africano['text'].apply(remover_stopwords)\n",
    "\n",
    "df_africano.head()"
   ]
  },
  {
   "cell_type": "code",
   "execution_count": 13,
   "id": "e0af827e",
   "metadata": {},
   "outputs": [
    {
     "name": "stderr",
     "output_type": "stream",
     "text": [
      "C:\\Users\\Ben-Hur\\AppData\\Local\\Temp\\ipykernel_15004\\3200920810.py:12: SettingWithCopyWarning: \n",
      "A value is trying to be set on a copy of a slice from a DataFrame.\n",
      "Try using .loc[row_indexer,col_indexer] = value instead\n",
      "\n",
      "See the caveats in the documentation: https://pandas.pydata.org/pandas-docs/stable/user_guide/indexing.html#returning-a-view-versus-a-copy\n",
      "  df_ingles['text'] = df_ingles['text'].apply(remover_stopwords)\n"
     ]
    },
    {
     "data": {
      "text/html": [
       "<div>\n",
       "<style scoped>\n",
       "    .dataframe tbody tr th:only-of-type {\n",
       "        vertical-align: middle;\n",
       "    }\n",
       "\n",
       "    .dataframe tbody tr th {\n",
       "        vertical-align: top;\n",
       "    }\n",
       "\n",
       "    .dataframe thead th {\n",
       "        text-align: right;\n",
       "    }\n",
       "</style>\n",
       "<table border=\"1\" class=\"dataframe\">\n",
       "  <thead>\n",
       "    <tr style=\"text-align: right;\">\n",
       "      <th></th>\n",
       "      <th>text</th>\n",
       "      <th>language</th>\n",
       "    </tr>\n",
       "  </thead>\n",
       "  <tbody>\n",
       "    <tr>\n",
       "      <th>0</th>\n",
       "      <td>Ship shape and Bristol fashion</td>\n",
       "      <td>English</td>\n",
       "    </tr>\n",
       "    <tr>\n",
       "      <th>1</th>\n",
       "      <td>Know the ropes</td>\n",
       "      <td>English</td>\n",
       "    </tr>\n",
       "    <tr>\n",
       "      <th>2</th>\n",
       "      <td>Graveyard shift</td>\n",
       "      <td>English</td>\n",
       "    </tr>\n",
       "    <tr>\n",
       "      <th>3</th>\n",
       "      <td>Milk of human kindness</td>\n",
       "      <td>English</td>\n",
       "    </tr>\n",
       "    <tr>\n",
       "      <th>4</th>\n",
       "      <td>Touch with a barge-pole - Wouldn't</td>\n",
       "      <td>English</td>\n",
       "    </tr>\n",
       "  </tbody>\n",
       "</table>\n",
       "</div>"
      ],
      "text/plain": [
       "                                 text language\n",
       "0      Ship shape and Bristol fashion  English\n",
       "1                      Know the ropes  English\n",
       "2                     Graveyard shift  English\n",
       "3              Milk of human kindness  English\n",
       "4  Touch with a barge-pole - Wouldn't  English"
      ]
     },
     "execution_count": 13,
     "metadata": {},
     "output_type": "execute_result"
    }
   ],
   "source": [
    "# Inglês\n",
    "with open('stop_words/english_stopwords.txt', 'r', encoding='utf-8') as arquivo:\n",
    "    stopwords_lista = arquivo.read().splitlines()\n",
    "\n",
    "# Função para remover as stop words do texto\n",
    "def remover_stopwords(texto):\n",
    "    palavras = texto.split()\n",
    "    palavras_sem_stopwords = [palavra for palavra in palavras if palavra.lower() not in stopwords_lista]\n",
    "    return ' '.join(palavras_sem_stopwords)\n",
    "\n",
    "\n",
    "df_ingles['text'] = df_ingles['text'].apply(remover_stopwords)\n",
    "\n",
    "df_ingles.head()"
   ]
  },
  {
   "cell_type": "code",
   "execution_count": 14,
   "id": "15668047",
   "metadata": {},
   "outputs": [
    {
     "name": "stderr",
     "output_type": "stream",
     "text": [
      "C:\\Users\\Ben-Hur\\AppData\\Local\\Temp\\ipykernel_15004\\3793866697.py:12: SettingWithCopyWarning: \n",
      "A value is trying to be set on a copy of a slice from a DataFrame.\n",
      "Try using .loc[row_indexer,col_indexer] = value instead\n",
      "\n",
      "See the caveats in the documentation: https://pandas.pydata.org/pandas-docs/stable/user_guide/indexing.html#returning-a-view-versus-a-copy\n",
      "  df_holandes['text'] = df_holandes['text'].apply(remover_stopwords)\n"
     ]
    },
    {
     "data": {
      "text/html": [
       "<div>\n",
       "<style scoped>\n",
       "    .dataframe tbody tr th:only-of-type {\n",
       "        vertical-align: middle;\n",
       "    }\n",
       "\n",
       "    .dataframe tbody tr th {\n",
       "        vertical-align: top;\n",
       "    }\n",
       "\n",
       "    .dataframe thead th {\n",
       "        text-align: right;\n",
       "    }\n",
       "</style>\n",
       "<table border=\"1\" class=\"dataframe\">\n",
       "  <thead>\n",
       "    <tr style=\"text-align: right;\">\n",
       "      <th></th>\n",
       "      <th>text</th>\n",
       "      <th>language</th>\n",
       "    </tr>\n",
       "  </thead>\n",
       "  <tbody>\n",
       "    <tr>\n",
       "      <th>64</th>\n",
       "      <td>Je moet geen oude schoenen weggooien, voordat ...</td>\n",
       "      <td>Nederlands</td>\n",
       "    </tr>\n",
       "    <tr>\n",
       "      <th>93</th>\n",
       "      <td>Wie zaait, zal oogsten.</td>\n",
       "      <td>Nederlands</td>\n",
       "    </tr>\n",
       "    <tr>\n",
       "      <th>119</th>\n",
       "      <td>Wie het eerst komt, het eerst maalt.</td>\n",
       "      <td>Nederlands</td>\n",
       "    </tr>\n",
       "    <tr>\n",
       "      <th>143</th>\n",
       "      <td>Gedane zaken nemen geen keer.</td>\n",
       "      <td>Nederlands</td>\n",
       "    </tr>\n",
       "    <tr>\n",
       "      <th>170</th>\n",
       "      <td>Aan alles komt een eind.</td>\n",
       "      <td>Nederlands</td>\n",
       "    </tr>\n",
       "  </tbody>\n",
       "</table>\n",
       "</div>"
      ],
      "text/plain": [
       "                                                  text    language\n",
       "64   Je moet geen oude schoenen weggooien, voordat ...  Nederlands\n",
       "93                             Wie zaait, zal oogsten.  Nederlands\n",
       "119               Wie het eerst komt, het eerst maalt.  Nederlands\n",
       "143                      Gedane zaken nemen geen keer.  Nederlands\n",
       "170                           Aan alles komt een eind.  Nederlands"
      ]
     },
     "execution_count": 14,
     "metadata": {},
     "output_type": "execute_result"
    }
   ],
   "source": [
    "# Holandês\n",
    "with open('stop_words/nederlands_stopwords.txt', 'r', encoding='utf-8') as arquivo:\n",
    "    stopwords_lista = arquivo.read().splitlines()\n",
    "\n",
    "# Função para remover as stop words do texto\n",
    "def remover_stopwords(texto):\n",
    "    palavras = texto.split()\n",
    "    palavras_sem_stopwords = [palavra for palavra in palavras if palavra.lower() not in stopwords_lista]\n",
    "    return ' '.join(palavras_sem_stopwords)\n",
    "\n",
    "\n",
    "df_holandes['text'] = df_holandes['text'].apply(remover_stopwords)\n",
    "\n",
    "df_holandes.head()"
   ]
  },
  {
   "cell_type": "markdown",
   "id": "8697294c",
   "metadata": {},
   "source": [
    "### Juntandos os dataframes de volta"
   ]
  },
  {
   "cell_type": "code",
   "execution_count": 15,
   "id": "276b948d",
   "metadata": {},
   "outputs": [
    {
     "data": {
      "text/html": [
       "<div>\n",
       "<style scoped>\n",
       "    .dataframe tbody tr th:only-of-type {\n",
       "        vertical-align: middle;\n",
       "    }\n",
       "\n",
       "    .dataframe tbody tr th {\n",
       "        vertical-align: top;\n",
       "    }\n",
       "\n",
       "    .dataframe thead th {\n",
       "        text-align: right;\n",
       "    }\n",
       "</style>\n",
       "<table border=\"1\" class=\"dataframe\">\n",
       "  <thead>\n",
       "    <tr style=\"text-align: right;\">\n",
       "      <th></th>\n",
       "      <th>text</th>\n",
       "      <th>language</th>\n",
       "    </tr>\n",
       "  </thead>\n",
       "  <tbody>\n",
       "    <tr>\n",
       "      <th>5</th>\n",
       "      <td>Sy kan altyd my battery natpiepie.</td>\n",
       "      <td>Afrikaans</td>\n",
       "    </tr>\n",
       "    <tr>\n",
       "      <th>16</th>\n",
       "      <td>Piet Pompies van Soetmelksvlei is nie van hier...</td>\n",
       "      <td>Afrikaans</td>\n",
       "    </tr>\n",
       "    <tr>\n",
       "      <th>28</th>\n",
       "      <td>Die lewe is 10 % wat met ons gebeur en 90 % on...</td>\n",
       "      <td>Afrikaans</td>\n",
       "    </tr>\n",
       "    <tr>\n",
       "      <th>31</th>\n",
       "      <td>Saam met ons, rondom ons, in ons en by ons is ...</td>\n",
       "      <td>Afrikaans</td>\n",
       "    </tr>\n",
       "    <tr>\n",
       "      <th>35</th>\n",
       "      <td>Vroeg uit die bed, maak die beursie vet!</td>\n",
       "      <td>Afrikaans</td>\n",
       "    </tr>\n",
       "    <tr>\n",
       "      <th>...</th>\n",
       "      <td>...</td>\n",
       "      <td>...</td>\n",
       "    </tr>\n",
       "    <tr>\n",
       "      <th>2516</th>\n",
       "      <td>De laatste druppel doet de emmer overlopen.</td>\n",
       "      <td>Nederlands</td>\n",
       "    </tr>\n",
       "    <tr>\n",
       "      <th>2751</th>\n",
       "      <td>Kleine potjes hebben grote oren.</td>\n",
       "      <td>Nederlands</td>\n",
       "    </tr>\n",
       "    <tr>\n",
       "      <th>2776</th>\n",
       "      <td>Schijn bedriegt.</td>\n",
       "      <td>Nederlands</td>\n",
       "    </tr>\n",
       "    <tr>\n",
       "      <th>2797</th>\n",
       "      <td>Iets is beter dan niets.</td>\n",
       "      <td>Nederlands</td>\n",
       "    </tr>\n",
       "    <tr>\n",
       "      <th>2826</th>\n",
       "      <td>Waar rook is, is vuur.</td>\n",
       "      <td>Nederlands</td>\n",
       "    </tr>\n",
       "  </tbody>\n",
       "</table>\n",
       "<p>2752 rows × 2 columns</p>\n",
       "</div>"
      ],
      "text/plain": [
       "                                                   text    language\n",
       "5                    Sy kan altyd my battery natpiepie.   Afrikaans\n",
       "16    Piet Pompies van Soetmelksvlei is nie van hier...   Afrikaans\n",
       "28    Die lewe is 10 % wat met ons gebeur en 90 % on...   Afrikaans\n",
       "31    Saam met ons, rondom ons, in ons en by ons is ...   Afrikaans\n",
       "35             Vroeg uit die bed, maak die beursie vet!   Afrikaans\n",
       "...                                                 ...         ...\n",
       "2516        De laatste druppel doet de emmer overlopen.  Nederlands\n",
       "2751                   Kleine potjes hebben grote oren.  Nederlands\n",
       "2776                                   Schijn bedriegt.  Nederlands\n",
       "2797                           Iets is beter dan niets.  Nederlands\n",
       "2826                             Waar rook is, is vuur.  Nederlands\n",
       "\n",
       "[2752 rows x 2 columns]"
      ]
     },
     "execution_count": 15,
     "metadata": {},
     "output_type": "execute_result"
    }
   ],
   "source": [
    "df_stop = pd.concat([df_africano, df_ingles, df_holandes])\n",
    "df_stop"
   ]
  },
  {
   "cell_type": "code",
   "execution_count": 16,
   "id": "5504d6e2",
   "metadata": {},
   "outputs": [],
   "source": [
    "#df_stop.to_csv('stop_words.csv', index=False)"
   ]
  },
  {
   "cell_type": "markdown",
   "id": "8d5b2ce5",
   "metadata": {},
   "source": [
    "## Representação Bag of Word"
   ]
  },
  {
   "cell_type": "code",
   "execution_count": 17,
   "id": "17f7c474",
   "metadata": {},
   "outputs": [],
   "source": [
    "countvec = CountVectorizer(ngram_range = (1,2))\n",
    "countvec_data = countvec.fit_transform(df_stop['text'])"
   ]
  },
  {
   "cell_type": "code",
   "execution_count": 18,
   "id": "a25998c5",
   "metadata": {},
   "outputs": [
    {
     "data": {
      "text/html": [
       "<div>\n",
       "<style scoped>\n",
       "    .dataframe tbody tr th:only-of-type {\n",
       "        vertical-align: middle;\n",
       "    }\n",
       "\n",
       "    .dataframe tbody tr th {\n",
       "        vertical-align: top;\n",
       "    }\n",
       "\n",
       "    .dataframe thead th {\n",
       "        text-align: right;\n",
       "    }\n",
       "</style>\n",
       "<table border=\"1\" class=\"dataframe\">\n",
       "  <thead>\n",
       "    <tr style=\"text-align: right;\">\n",
       "      <th></th>\n",
       "      <th>10</th>\n",
       "      <th>10 wat</th>\n",
       "      <th>1500s</th>\n",
       "      <th>1500s folk</th>\n",
       "      <th>1ste</th>\n",
       "      <th>1ste graad</th>\n",
       "      <th>22</th>\n",
       "      <th>90</th>\n",
       "      <th>90 ons</th>\n",
       "      <th>99</th>\n",
       "      <th>...</th>\n",
       "      <th>zwijgen is</th>\n",
       "      <th>àugur</th>\n",
       "      <th>àugur well</th>\n",
       "      <th>één</th>\n",
       "      <th>één ding</th>\n",
       "      <th>één klap</th>\n",
       "      <th>één paard</th>\n",
       "      <th>één rede</th>\n",
       "      <th>één vogel</th>\n",
       "      <th>language</th>\n",
       "    </tr>\n",
       "  </thead>\n",
       "  <tbody>\n",
       "    <tr>\n",
       "      <th>5</th>\n",
       "      <td>0</td>\n",
       "      <td>0</td>\n",
       "      <td>0</td>\n",
       "      <td>0</td>\n",
       "      <td>0</td>\n",
       "      <td>0</td>\n",
       "      <td>0</td>\n",
       "      <td>0</td>\n",
       "      <td>0</td>\n",
       "      <td>0</td>\n",
       "      <td>...</td>\n",
       "      <td>0</td>\n",
       "      <td>0</td>\n",
       "      <td>0</td>\n",
       "      <td>0</td>\n",
       "      <td>0</td>\n",
       "      <td>0</td>\n",
       "      <td>0</td>\n",
       "      <td>0</td>\n",
       "      <td>0</td>\n",
       "      <td>Afrikaans</td>\n",
       "    </tr>\n",
       "    <tr>\n",
       "      <th>16</th>\n",
       "      <td>0</td>\n",
       "      <td>0</td>\n",
       "      <td>0</td>\n",
       "      <td>0</td>\n",
       "      <td>0</td>\n",
       "      <td>0</td>\n",
       "      <td>0</td>\n",
       "      <td>0</td>\n",
       "      <td>0</td>\n",
       "      <td>0</td>\n",
       "      <td>...</td>\n",
       "      <td>0</td>\n",
       "      <td>0</td>\n",
       "      <td>0</td>\n",
       "      <td>0</td>\n",
       "      <td>0</td>\n",
       "      <td>0</td>\n",
       "      <td>0</td>\n",
       "      <td>0</td>\n",
       "      <td>0</td>\n",
       "      <td>Afrikaans</td>\n",
       "    </tr>\n",
       "    <tr>\n",
       "      <th>28</th>\n",
       "      <td>1</td>\n",
       "      <td>1</td>\n",
       "      <td>0</td>\n",
       "      <td>0</td>\n",
       "      <td>0</td>\n",
       "      <td>0</td>\n",
       "      <td>0</td>\n",
       "      <td>1</td>\n",
       "      <td>1</td>\n",
       "      <td>0</td>\n",
       "      <td>...</td>\n",
       "      <td>0</td>\n",
       "      <td>0</td>\n",
       "      <td>0</td>\n",
       "      <td>0</td>\n",
       "      <td>0</td>\n",
       "      <td>0</td>\n",
       "      <td>0</td>\n",
       "      <td>0</td>\n",
       "      <td>0</td>\n",
       "      <td>Afrikaans</td>\n",
       "    </tr>\n",
       "    <tr>\n",
       "      <th>31</th>\n",
       "      <td>0</td>\n",
       "      <td>0</td>\n",
       "      <td>0</td>\n",
       "      <td>0</td>\n",
       "      <td>0</td>\n",
       "      <td>0</td>\n",
       "      <td>0</td>\n",
       "      <td>0</td>\n",
       "      <td>0</td>\n",
       "      <td>0</td>\n",
       "      <td>...</td>\n",
       "      <td>0</td>\n",
       "      <td>0</td>\n",
       "      <td>0</td>\n",
       "      <td>0</td>\n",
       "      <td>0</td>\n",
       "      <td>0</td>\n",
       "      <td>0</td>\n",
       "      <td>0</td>\n",
       "      <td>0</td>\n",
       "      <td>Afrikaans</td>\n",
       "    </tr>\n",
       "    <tr>\n",
       "      <th>35</th>\n",
       "      <td>0</td>\n",
       "      <td>0</td>\n",
       "      <td>0</td>\n",
       "      <td>0</td>\n",
       "      <td>0</td>\n",
       "      <td>0</td>\n",
       "      <td>0</td>\n",
       "      <td>0</td>\n",
       "      <td>0</td>\n",
       "      <td>0</td>\n",
       "      <td>...</td>\n",
       "      <td>0</td>\n",
       "      <td>0</td>\n",
       "      <td>0</td>\n",
       "      <td>0</td>\n",
       "      <td>0</td>\n",
       "      <td>0</td>\n",
       "      <td>0</td>\n",
       "      <td>0</td>\n",
       "      <td>0</td>\n",
       "      <td>Afrikaans</td>\n",
       "    </tr>\n",
       "  </tbody>\n",
       "</table>\n",
       "<p>5 rows × 13376 columns</p>\n",
       "</div>"
      ],
      "text/plain": [
       "    10  10 wat  1500s  1500s folk  1ste  1ste graad  22  90  90 ons  99  ...  \\\n",
       "5    0       0      0           0     0           0   0   0       0   0  ...   \n",
       "16   0       0      0           0     0           0   0   0       0   0  ...   \n",
       "28   1       1      0           0     0           0   0   1       1   0  ...   \n",
       "31   0       0      0           0     0           0   0   0       0   0  ...   \n",
       "35   0       0      0           0     0           0   0   0       0   0  ...   \n",
       "\n",
       "    zwijgen is  àugur  àugur well  één  één ding  één klap  één paard  \\\n",
       "5            0      0           0    0         0         0          0   \n",
       "16           0      0           0    0         0         0          0   \n",
       "28           0      0           0    0         0         0          0   \n",
       "31           0      0           0    0         0         0          0   \n",
       "35           0      0           0    0         0         0          0   \n",
       "\n",
       "    één rede  één vogel   language  \n",
       "5          0          0  Afrikaans  \n",
       "16         0          0  Afrikaans  \n",
       "28         0          0  Afrikaans  \n",
       "31         0          0  Afrikaans  \n",
       "35         0          0  Afrikaans  \n",
       "\n",
       "[5 rows x 13376 columns]"
      ]
     },
     "execution_count": 18,
     "metadata": {},
     "output_type": "execute_result"
    }
   ],
   "source": [
    "# Conversão da matriz esparsa para DataFrame\n",
    "df_bow = pd.DataFrame(countvec_data.toarray(), \n",
    "                      columns=countvec.get_feature_names_out())\n",
    "df_bow.index = df_stop.index\n",
    "df_bow = df_bow.join(df_stop[['language']], how='left')\n",
    "df_bow.head()\n"
   ]
  },
  {
   "cell_type": "markdown",
   "id": "4ef7e140",
   "metadata": {},
   "source": [
    "# Criação do modelo "
   ]
  },
  {
   "cell_type": "code",
   "execution_count": 19,
   "id": "089a44c5",
   "metadata": {},
   "outputs": [
    {
     "data": {
      "text/html": [
       "<div>\n",
       "<style scoped>\n",
       "    .dataframe tbody tr th:only-of-type {\n",
       "        vertical-align: middle;\n",
       "    }\n",
       "\n",
       "    .dataframe tbody tr th {\n",
       "        vertical-align: top;\n",
       "    }\n",
       "\n",
       "    .dataframe thead th {\n",
       "        text-align: right;\n",
       "    }\n",
       "</style>\n",
       "<table border=\"1\" class=\"dataframe\">\n",
       "  <thead>\n",
       "    <tr style=\"text-align: right;\">\n",
       "      <th></th>\n",
       "      <th>10</th>\n",
       "      <th>10 wat</th>\n",
       "      <th>1500s</th>\n",
       "      <th>1500s folk</th>\n",
       "      <th>1ste</th>\n",
       "      <th>1ste graad</th>\n",
       "      <th>22</th>\n",
       "      <th>90</th>\n",
       "      <th>90 ons</th>\n",
       "      <th>99</th>\n",
       "      <th>...</th>\n",
       "      <th>zwijgen is</th>\n",
       "      <th>àugur</th>\n",
       "      <th>àugur well</th>\n",
       "      <th>één</th>\n",
       "      <th>één ding</th>\n",
       "      <th>één klap</th>\n",
       "      <th>één paard</th>\n",
       "      <th>één rede</th>\n",
       "      <th>één vogel</th>\n",
       "      <th>language</th>\n",
       "    </tr>\n",
       "  </thead>\n",
       "  <tbody>\n",
       "    <tr>\n",
       "      <th>5</th>\n",
       "      <td>0</td>\n",
       "      <td>0</td>\n",
       "      <td>0</td>\n",
       "      <td>0</td>\n",
       "      <td>0</td>\n",
       "      <td>0</td>\n",
       "      <td>0</td>\n",
       "      <td>0</td>\n",
       "      <td>0</td>\n",
       "      <td>0</td>\n",
       "      <td>...</td>\n",
       "      <td>0</td>\n",
       "      <td>0</td>\n",
       "      <td>0</td>\n",
       "      <td>0</td>\n",
       "      <td>0</td>\n",
       "      <td>0</td>\n",
       "      <td>0</td>\n",
       "      <td>0</td>\n",
       "      <td>0</td>\n",
       "      <td>0</td>\n",
       "    </tr>\n",
       "    <tr>\n",
       "      <th>16</th>\n",
       "      <td>0</td>\n",
       "      <td>0</td>\n",
       "      <td>0</td>\n",
       "      <td>0</td>\n",
       "      <td>0</td>\n",
       "      <td>0</td>\n",
       "      <td>0</td>\n",
       "      <td>0</td>\n",
       "      <td>0</td>\n",
       "      <td>0</td>\n",
       "      <td>...</td>\n",
       "      <td>0</td>\n",
       "      <td>0</td>\n",
       "      <td>0</td>\n",
       "      <td>0</td>\n",
       "      <td>0</td>\n",
       "      <td>0</td>\n",
       "      <td>0</td>\n",
       "      <td>0</td>\n",
       "      <td>0</td>\n",
       "      <td>0</td>\n",
       "    </tr>\n",
       "    <tr>\n",
       "      <th>28</th>\n",
       "      <td>1</td>\n",
       "      <td>1</td>\n",
       "      <td>0</td>\n",
       "      <td>0</td>\n",
       "      <td>0</td>\n",
       "      <td>0</td>\n",
       "      <td>0</td>\n",
       "      <td>1</td>\n",
       "      <td>1</td>\n",
       "      <td>0</td>\n",
       "      <td>...</td>\n",
       "      <td>0</td>\n",
       "      <td>0</td>\n",
       "      <td>0</td>\n",
       "      <td>0</td>\n",
       "      <td>0</td>\n",
       "      <td>0</td>\n",
       "      <td>0</td>\n",
       "      <td>0</td>\n",
       "      <td>0</td>\n",
       "      <td>0</td>\n",
       "    </tr>\n",
       "    <tr>\n",
       "      <th>31</th>\n",
       "      <td>0</td>\n",
       "      <td>0</td>\n",
       "      <td>0</td>\n",
       "      <td>0</td>\n",
       "      <td>0</td>\n",
       "      <td>0</td>\n",
       "      <td>0</td>\n",
       "      <td>0</td>\n",
       "      <td>0</td>\n",
       "      <td>0</td>\n",
       "      <td>...</td>\n",
       "      <td>0</td>\n",
       "      <td>0</td>\n",
       "      <td>0</td>\n",
       "      <td>0</td>\n",
       "      <td>0</td>\n",
       "      <td>0</td>\n",
       "      <td>0</td>\n",
       "      <td>0</td>\n",
       "      <td>0</td>\n",
       "      <td>0</td>\n",
       "    </tr>\n",
       "    <tr>\n",
       "      <th>35</th>\n",
       "      <td>0</td>\n",
       "      <td>0</td>\n",
       "      <td>0</td>\n",
       "      <td>0</td>\n",
       "      <td>0</td>\n",
       "      <td>0</td>\n",
       "      <td>0</td>\n",
       "      <td>0</td>\n",
       "      <td>0</td>\n",
       "      <td>0</td>\n",
       "      <td>...</td>\n",
       "      <td>0</td>\n",
       "      <td>0</td>\n",
       "      <td>0</td>\n",
       "      <td>0</td>\n",
       "      <td>0</td>\n",
       "      <td>0</td>\n",
       "      <td>0</td>\n",
       "      <td>0</td>\n",
       "      <td>0</td>\n",
       "      <td>0</td>\n",
       "    </tr>\n",
       "  </tbody>\n",
       "</table>\n",
       "<p>5 rows × 13376 columns</p>\n",
       "</div>"
      ],
      "text/plain": [
       "    10  10 wat  1500s  1500s folk  1ste  1ste graad  22  90  90 ons  99  ...  \\\n",
       "5    0       0      0           0     0           0   0   0       0   0  ...   \n",
       "16   0       0      0           0     0           0   0   0       0   0  ...   \n",
       "28   1       1      0           0     0           0   0   1       1   0  ...   \n",
       "31   0       0      0           0     0           0   0   0       0   0  ...   \n",
       "35   0       0      0           0     0           0   0   0       0   0  ...   \n",
       "\n",
       "    zwijgen is  àugur  àugur well  één  één ding  één klap  één paard  \\\n",
       "5            0      0           0    0         0         0          0   \n",
       "16           0      0           0    0         0         0          0   \n",
       "28           0      0           0    0         0         0          0   \n",
       "31           0      0           0    0         0         0          0   \n",
       "35           0      0           0    0         0         0          0   \n",
       "\n",
       "    één rede  één vogel  language  \n",
       "5          0          0         0  \n",
       "16         0          0         0  \n",
       "28         0          0         0  \n",
       "31         0          0         0  \n",
       "35         0          0         0  \n",
       "\n",
       "[5 rows x 13376 columns]"
      ]
     },
     "execution_count": 19,
     "metadata": {},
     "output_type": "execute_result"
    }
   ],
   "source": [
    "language_map = {'Afrikaans': 0, 'English':1, 'Nederlands':2}\n",
    "df_bow['language'] = df_bow['language'].map(language_map)\n",
    "df_bow.head()"
   ]
  },
  {
   "cell_type": "markdown",
   "id": "1695ba50",
   "metadata": {},
   "source": [
    "## Definição do target e features"
   ]
  },
  {
   "cell_type": "code",
   "execution_count": 20,
   "id": "67400e7d",
   "metadata": {},
   "outputs": [],
   "source": [
    "# Target \n",
    "y = df_bow['language']\n",
    "\n",
    "# Features\n",
    "x = df_bow.drop('language', axis=1)"
   ]
  },
  {
   "cell_type": "markdown",
   "id": "51c2724f",
   "metadata": {},
   "source": [
    "## Divisão treino e teste"
   ]
  },
  {
   "cell_type": "code",
   "execution_count": 21,
   "id": "bd64dd1a",
   "metadata": {},
   "outputs": [],
   "source": [
    "x_train, x_test, y_train, y_test = train_test_split(x, \n",
    "                                                    y, \n",
    "                                                    test_size=0.30, \n",
    "                                                    random_state=42)"
   ]
  },
  {
   "cell_type": "code",
   "execution_count": 22,
   "id": "c6f8436c",
   "metadata": {},
   "outputs": [
    {
     "data": {
      "text/plain": [
       "((1926, 13375), (826, 13375), (1926,), (826,))"
      ]
     },
     "execution_count": 22,
     "metadata": {},
     "output_type": "execute_result"
    }
   ],
   "source": [
    "(x_train.shape, x_test.shape, y_train.shape, y_test.shape)"
   ]
  },
  {
   "cell_type": "markdown",
   "id": "ae940fba",
   "metadata": {},
   "source": [
    "## Criação de treinamento do modelo "
   ]
  },
  {
   "cell_type": "code",
   "execution_count": 23,
   "id": "5cc878be",
   "metadata": {},
   "outputs": [
    {
     "data": {
      "text/html": [
       "<style>#sk-container-id-1 {color: black;background-color: white;}#sk-container-id-1 pre{padding: 0;}#sk-container-id-1 div.sk-toggleable {background-color: white;}#sk-container-id-1 label.sk-toggleable__label {cursor: pointer;display: block;width: 100%;margin-bottom: 0;padding: 0.3em;box-sizing: border-box;text-align: center;}#sk-container-id-1 label.sk-toggleable__label-arrow:before {content: \"▸\";float: left;margin-right: 0.25em;color: #696969;}#sk-container-id-1 label.sk-toggleable__label-arrow:hover:before {color: black;}#sk-container-id-1 div.sk-estimator:hover label.sk-toggleable__label-arrow:before {color: black;}#sk-container-id-1 div.sk-toggleable__content {max-height: 0;max-width: 0;overflow: hidden;text-align: left;background-color: #f0f8ff;}#sk-container-id-1 div.sk-toggleable__content pre {margin: 0.2em;color: black;border-radius: 0.25em;background-color: #f0f8ff;}#sk-container-id-1 input.sk-toggleable__control:checked~div.sk-toggleable__content {max-height: 200px;max-width: 100%;overflow: auto;}#sk-container-id-1 input.sk-toggleable__control:checked~label.sk-toggleable__label-arrow:before {content: \"▾\";}#sk-container-id-1 div.sk-estimator input.sk-toggleable__control:checked~label.sk-toggleable__label {background-color: #d4ebff;}#sk-container-id-1 div.sk-label input.sk-toggleable__control:checked~label.sk-toggleable__label {background-color: #d4ebff;}#sk-container-id-1 input.sk-hidden--visually {border: 0;clip: rect(1px 1px 1px 1px);clip: rect(1px, 1px, 1px, 1px);height: 1px;margin: -1px;overflow: hidden;padding: 0;position: absolute;width: 1px;}#sk-container-id-1 div.sk-estimator {font-family: monospace;background-color: #f0f8ff;border: 1px dotted black;border-radius: 0.25em;box-sizing: border-box;margin-bottom: 0.5em;}#sk-container-id-1 div.sk-estimator:hover {background-color: #d4ebff;}#sk-container-id-1 div.sk-parallel-item::after {content: \"\";width: 100%;border-bottom: 1px solid gray;flex-grow: 1;}#sk-container-id-1 div.sk-label:hover label.sk-toggleable__label {background-color: #d4ebff;}#sk-container-id-1 div.sk-serial::before {content: \"\";position: absolute;border-left: 1px solid gray;box-sizing: border-box;top: 0;bottom: 0;left: 50%;z-index: 0;}#sk-container-id-1 div.sk-serial {display: flex;flex-direction: column;align-items: center;background-color: white;padding-right: 0.2em;padding-left: 0.2em;position: relative;}#sk-container-id-1 div.sk-item {position: relative;z-index: 1;}#sk-container-id-1 div.sk-parallel {display: flex;align-items: stretch;justify-content: center;background-color: white;position: relative;}#sk-container-id-1 div.sk-item::before, #sk-container-id-1 div.sk-parallel-item::before {content: \"\";position: absolute;border-left: 1px solid gray;box-sizing: border-box;top: 0;bottom: 0;left: 50%;z-index: -1;}#sk-container-id-1 div.sk-parallel-item {display: flex;flex-direction: column;z-index: 1;position: relative;background-color: white;}#sk-container-id-1 div.sk-parallel-item:first-child::after {align-self: flex-end;width: 50%;}#sk-container-id-1 div.sk-parallel-item:last-child::after {align-self: flex-start;width: 50%;}#sk-container-id-1 div.sk-parallel-item:only-child::after {width: 0;}#sk-container-id-1 div.sk-dashed-wrapped {border: 1px dashed gray;margin: 0 0.4em 0.5em 0.4em;box-sizing: border-box;padding-bottom: 0.4em;background-color: white;}#sk-container-id-1 div.sk-label label {font-family: monospace;font-weight: bold;display: inline-block;line-height: 1.2em;}#sk-container-id-1 div.sk-label-container {text-align: center;}#sk-container-id-1 div.sk-container {/* jupyter's `normalize.less` sets `[hidden] { display: none; }` but bootstrap.min.css set `[hidden] { display: none !important; }` so we also need the `!important` here to be able to override the default hidden behavior on the sphinx rendered scikit-learn.org. See: https://github.com/scikit-learn/scikit-learn/issues/21755 */display: inline-block !important;position: relative;}#sk-container-id-1 div.sk-text-repr-fallback {display: none;}</style><div id=\"sk-container-id-1\" class=\"sk-top-container\"><div class=\"sk-text-repr-fallback\"><pre>GradientBoostingClassifier(random_state=42, subsample=0.5)</pre><b>In a Jupyter environment, please rerun this cell to show the HTML representation or trust the notebook. <br />On GitHub, the HTML representation is unable to render, please try loading this page with nbviewer.org.</b></div><div class=\"sk-container\" hidden><div class=\"sk-item\"><div class=\"sk-estimator sk-toggleable\"><input class=\"sk-toggleable__control sk-hidden--visually\" id=\"sk-estimator-id-1\" type=\"checkbox\" checked><label for=\"sk-estimator-id-1\" class=\"sk-toggleable__label sk-toggleable__label-arrow\">GradientBoostingClassifier</label><div class=\"sk-toggleable__content\"><pre>GradientBoostingClassifier(random_state=42, subsample=0.5)</pre></div></div></div></div></div>"
      ],
      "text/plain": [
       "GradientBoostingClassifier(random_state=42, subsample=0.5)"
      ]
     },
     "execution_count": 23,
     "metadata": {},
     "output_type": "execute_result"
    }
   ],
   "source": [
    "modelo = GradientBoostingClassifier(n_estimators=100,\n",
    "                                        subsample=0.5,\n",
    "                                        random_state=42)\n",
    "modelo.fit(x_train, y_train)"
   ]
  },
  {
   "cell_type": "code",
   "execution_count": 24,
   "id": "8669f0a7",
   "metadata": {},
   "outputs": [
    {
     "data": {
      "text/plain": [
       "array([1, 0, 1, 1, 1, 0, 1, 0, 1, 1, 1, 1, 1, 1, 1, 1, 1, 1, 1, 1, 1, 1,\n",
       "       0, 1, 0, 1, 1, 1, 1, 1, 1, 1, 1, 0, 1, 1, 1, 1, 1, 1, 0, 1, 0, 1,\n",
       "       1, 1, 1, 0, 1, 1, 1, 1, 0, 1, 1, 1, 1, 1, 1, 1, 1, 1, 1, 1, 1, 1,\n",
       "       1, 1, 1, 1, 1, 0, 1, 1, 1, 0, 1, 1, 1, 1, 1, 0, 0, 1, 1, 1, 0, 1,\n",
       "       1, 1, 0, 1, 1, 1, 1, 1, 0, 1, 0, 1, 1, 0, 1, 1, 1, 0, 1, 1, 1, 1,\n",
       "       1, 0, 0, 1, 1, 1, 1, 1, 1, 1, 1, 1, 1, 1, 1, 1, 1, 1, 1, 0, 1, 1,\n",
       "       0, 1, 1, 0, 1, 1, 1, 1, 1, 1, 1, 0, 1, 1, 1, 1, 1, 1, 1, 1, 1, 1,\n",
       "       0, 0, 1, 0, 1, 0, 1, 1, 1, 1, 1, 1, 1, 1, 1, 1, 0, 1, 1, 1, 1, 0,\n",
       "       1, 1, 0, 1, 1, 1, 1, 1, 1, 1, 1, 0, 0, 0, 1, 1, 1, 1, 1, 1, 1, 1,\n",
       "       1, 1, 1, 1, 1, 1, 1, 1, 1, 1, 1, 1, 0, 0, 1, 1, 1, 0, 1, 1, 1, 1,\n",
       "       1, 0, 0, 1, 1, 1, 1, 1, 1, 1, 1, 1, 1, 1, 1, 0, 1, 1, 1, 1, 2, 1,\n",
       "       0, 1, 1, 1, 1, 1, 1, 1, 1, 0, 1, 0, 1, 1, 0, 0, 1, 1, 1, 0, 1, 1,\n",
       "       1, 0, 1, 1, 1, 0, 1, 0, 0, 1, 1, 0, 1, 1, 1, 1, 1, 1, 1, 1, 1, 1,\n",
       "       0, 1, 1, 1, 1, 1, 1, 0, 0, 1, 1, 1, 1, 1, 1, 0, 1, 1, 1, 1, 1, 1,\n",
       "       1, 1, 0, 0, 1, 1, 0, 1, 1, 0, 1, 1, 0, 1, 1, 1, 1, 1, 1, 1, 1, 1,\n",
       "       1, 1, 0, 1, 1, 1, 1, 1, 1, 0, 1, 1, 1, 1, 1, 1, 0, 1, 1, 1, 1, 1,\n",
       "       1, 1, 1, 0, 1, 1, 0, 1, 1, 1, 1, 1, 1, 1, 1, 0, 1, 1, 1, 0, 1, 1,\n",
       "       1, 1, 1, 1, 1, 1, 1, 1, 1, 0, 0, 1, 1, 0, 0, 1, 1, 1, 1, 1, 1, 0,\n",
       "       1, 1, 1, 1, 0, 1, 1, 1, 0, 1, 0, 1, 1, 1, 1, 0, 1, 1, 1, 1, 1, 0,\n",
       "       0, 0, 1, 1, 1, 1, 1, 1, 0, 1, 1, 1, 1, 1, 1, 1, 1, 1, 1, 1, 1, 1,\n",
       "       1, 1, 1, 0, 0, 0, 1, 0, 1, 0, 0, 0, 1, 1, 1, 1, 1, 1, 1, 0, 1, 1,\n",
       "       1, 1, 0, 1, 0, 1, 1, 1, 1, 1, 1, 1, 1, 1, 1, 1, 1, 1, 1, 1, 1, 1,\n",
       "       1, 1, 1, 1, 0, 1, 1, 1, 1, 1, 1, 1, 1, 1, 1, 1, 0, 1, 0, 1, 1, 1,\n",
       "       0, 0, 1, 1, 1, 1, 1, 1, 1, 0, 1, 1, 0, 1, 0, 1, 0, 1, 1, 1, 1, 1,\n",
       "       1, 1, 1, 1, 1, 1, 0, 1, 1, 1, 1, 0, 0, 1, 1, 0, 0, 0, 1, 1, 1, 0,\n",
       "       1, 1, 1, 1, 0, 1, 1, 1, 1, 0, 1, 1, 1, 1, 1, 1, 1, 1, 1, 1, 1, 1,\n",
       "       0, 0, 1, 0, 2, 1, 1, 1, 1, 1, 1, 0, 1, 1, 1, 1, 1, 1, 1, 1, 0, 1,\n",
       "       1, 0, 0, 1, 1, 1, 1, 0, 1, 1, 1, 0, 1, 1, 1, 1, 1, 1, 1, 0, 1, 1,\n",
       "       1, 1, 1, 1, 1, 1, 1, 1, 1, 1, 1, 1, 1, 1, 1, 0, 1, 1, 1, 0, 0, 0,\n",
       "       1, 0, 1, 1, 1, 1, 0, 2, 1, 0, 1, 1, 1, 0, 1, 1, 0, 0, 0, 0, 0, 1,\n",
       "       1, 1, 0, 1, 1, 1, 0, 1, 1, 1, 0, 1, 1, 1, 1, 1, 0, 1, 1, 1, 1, 1,\n",
       "       1, 1, 1, 0, 1, 0, 1, 1, 1, 1, 1, 1, 1, 1, 1, 1, 1, 1, 1, 1, 1, 1,\n",
       "       1, 1, 1, 1, 1, 1, 0, 1, 1, 1, 1, 1, 1, 1, 1, 1, 1, 1, 1, 1, 1, 0,\n",
       "       1, 1, 1, 1, 1, 0, 1, 1, 1, 1, 1, 1, 1, 1, 1, 1, 1, 0, 1, 1, 1, 0,\n",
       "       0, 1, 0, 1, 1, 2, 1, 0, 1, 1, 1, 1, 1, 1, 1, 1, 1, 1, 1, 2, 1, 1,\n",
       "       1, 1, 1, 1, 0, 0, 1, 1, 1, 1, 1, 1, 1, 1, 1, 1, 1, 1, 1, 1, 1, 1,\n",
       "       1, 1, 1, 0, 1, 1, 1, 0, 0, 1, 1, 1, 1, 1, 0, 1, 1, 1, 1, 1, 1, 1,\n",
       "       1, 1, 1, 1, 1, 0, 1, 1, 1, 1, 1, 1], dtype=int64)"
      ]
     },
     "execution_count": 24,
     "metadata": {},
     "output_type": "execute_result"
    }
   ],
   "source": [
    "y_pred = modelo.predict(x_test)\n",
    "y_pred"
   ]
  },
  {
   "cell_type": "code",
   "execution_count": 25,
   "id": "8c24b81a",
   "metadata": {},
   "outputs": [
    {
     "name": "stdout",
     "output_type": "stream",
     "text": [
      "Acurácia: 0.9297820823244553\n"
     ]
    }
   ],
   "source": [
    "accuracy = accuracy_score(y_test, y_pred)\n",
    "print(\"Acurácia:\", accuracy)"
   ]
  },
  {
   "cell_type": "code",
   "execution_count": 26,
   "id": "2fa22838",
   "metadata": {},
   "outputs": [
    {
     "data": {
      "text/plain": [
       "array([[153,  40,   0],\n",
       "       [  1, 610,   0],\n",
       "       [  0,  17,   5]], dtype=int64)"
      ]
     },
     "execution_count": 26,
     "metadata": {},
     "output_type": "execute_result"
    }
   ],
   "source": [
    "confusion_matrix(y_test, y_pred)"
   ]
  },
  {
   "cell_type": "markdown",
   "id": "78f3844c",
   "metadata": {},
   "source": [
    "# Exportando o modelo"
   ]
  },
  {
   "cell_type": "code",
   "execution_count": 27,
   "id": "982681b1",
   "metadata": {},
   "outputs": [
    {
     "data": {
      "text/plain": [
       "['modelo.pkl']"
      ]
     },
     "execution_count": 27,
     "metadata": {},
     "output_type": "execute_result"
    }
   ],
   "source": [
    "# Exportando o modelo para um arquivo\n",
    "joblib.dump(modelo, 'modelo.pkl')"
   ]
  },
  {
   "cell_type": "markdown",
   "id": "0837ebe1",
   "metadata": {},
   "source": [
    "# Testando o modelo com frases inputadas "
   ]
  },
  {
   "cell_type": "code",
   "execution_count": 28,
   "id": "43f8a7f6",
   "metadata": {},
   "outputs": [
    {
     "name": "stdout",
     "output_type": "stream",
     "text": [
      "Digite uma frase: alo\n",
      "A frase foi classificada como: [1]\n"
     ]
    },
    {
     "name": "stderr",
     "output_type": "stream",
     "text": [
      "C:\\Users\\Ben-Hur\\anaconda3\\lib\\site-packages\\sklearn\\base.py:439: UserWarning: X does not have valid feature names, but GradientBoostingClassifier was fitted with feature names\n",
      "  warnings.warn(\n"
     ]
    }
   ],
   "source": [
    "import pandas as pd\n",
    "import joblib\n",
    "from sklearn.feature_extraction.text import CountVectorizer\n",
    "\n",
    "\n",
    "\n",
    "# Carregando os stop words\n",
    "df_stop = pd.read_csv('stop_words.csv')\n",
    "\n",
    "# Carregando o modelo a partir do arquivo\n",
    "modelo = joblib.load('modelo.pkl')\n",
    "\n",
    "\n",
    "frase = input(\"Digite uma frase: \")\n",
    "\n",
    "# Ajustar o CountVectorizer\n",
    "countvec = CountVectorizer(ngram_range=(1, 2))\n",
    "countvec.fit(df_stop['text'])\n",
    "\n",
    "# Vetorização da frase de teste usando o mesmo CountVectorizer ajustado\n",
    "frase_vetorizada = countvec.transform([frase])\n",
    "\n",
    "# Fazer a previsão\n",
    "classe_prevista = modelo.predict(frase_vetorizada)\n",
    "print(\"A frase foi classificada como:\", classe_prevista)\n",
    "\n"
   ]
  },
  {
   "cell_type": "code",
   "execution_count": null,
   "id": "0c11db38",
   "metadata": {},
   "outputs": [],
   "source": []
  },
  {
   "cell_type": "markdown",
   "id": "38aa21bd",
   "metadata": {},
   "source": [
    "# Testando novos modelos de Redes Neurais\n",
    "\n",
    "Como eu já tinha uma base de dados boa, não preciso ir atrás de outra, texto já está preparado, base de treino e teste dividido agora é só treinar o modelo"
   ]
  },
  {
   "cell_type": "code",
   "execution_count": 47,
   "id": "b30a6122",
   "metadata": {},
   "outputs": [
    {
     "name": "stdout",
     "output_type": "stream",
     "text": [
      "Model: \"sequential_3\"\n",
      "_________________________________________________________________\n",
      " Layer (type)                Output Shape              Param #   \n",
      "=================================================================\n",
      " dense_9 (Dense)             (None, 10)                133760    \n",
      "                                                                 \n",
      " dropout_6 (Dropout)         (None, 10)                0         \n",
      "                                                                 \n",
      " dense_10 (Dense)            (None, 8)                 88        \n",
      "                                                                 \n",
      " dropout_7 (Dropout)         (None, 8)                 0         \n",
      "                                                                 \n",
      " dense_11 (Dense)            (None, 3)                 27        \n",
      "                                                                 \n",
      "=================================================================\n",
      "Total params: 133,875\n",
      "Trainable params: 133,875\n",
      "Non-trainable params: 0\n",
      "_________________________________________________________________\n"
     ]
    }
   ],
   "source": [
    "# Inicialização do modelo_rnao\n",
    "modelo_rna = keras.Sequential()\n",
    "\n",
    "# 1a camada oculta\n",
    "modelo_rna.add(layers.Dense(10, activation='tanh', input_dim=x_train.shape[1]))\n",
    "modelo_rna.add(layers.Dropout(0.2))\n",
    "\n",
    "# 2a camada oculta\n",
    "modelo_rna.add(layers.Dense(8, activation='tanh'))\n",
    "modelo_rna.add(layers.Dropout(0.1))\n",
    "\n",
    "# camada de saída\n",
    "modelo_rna.add(layers.Dense(3, activation='softmax'))\n",
    "\n",
    "# Compilando o modelo_rnao\n",
    "modelo_rna.compile(loss='sparse_categorical_crossentropy', optimizer='adam', metrics=['accuracy'])\n",
    "\n",
    "# Exibindo o resumo do modelo_rnao\n",
    "modelo_rna.summary()"
   ]
  },
  {
   "cell_type": "code",
   "execution_count": 48,
   "id": "54d68f81",
   "metadata": {},
   "outputs": [
    {
     "name": "stdout",
     "output_type": "stream",
     "text": [
      "Epoch 1/100\n",
      "55/55 [==============================] - 1s 6ms/step - loss: 0.9222 - accuracy: 0.7421 - val_loss: 0.7159 - val_accuracy: 0.9275\n",
      "Epoch 2/100\n",
      "55/55 [==============================] - 0s 4ms/step - loss: 0.5834 - accuracy: 0.8898 - val_loss: 0.4123 - val_accuracy: 0.9534\n",
      "Epoch 3/100\n",
      "55/55 [==============================] - 0s 4ms/step - loss: 0.3406 - accuracy: 0.9406 - val_loss: 0.2399 - val_accuracy: 0.9689\n",
      "Epoch 4/100\n",
      "55/55 [==============================] - 0s 4ms/step - loss: 0.1974 - accuracy: 0.9752 - val_loss: 0.1606 - val_accuracy: 0.9793\n",
      "Epoch 5/100\n",
      "55/55 [==============================] - 0s 4ms/step - loss: 0.1311 - accuracy: 0.9833 - val_loss: 0.1194 - val_accuracy: 0.9793\n",
      "Epoch 6/100\n",
      "55/55 [==============================] - 0s 4ms/step - loss: 0.0896 - accuracy: 0.9890 - val_loss: 0.0960 - val_accuracy: 0.9793\n",
      "Epoch 7/100\n",
      "55/55 [==============================] - 0s 4ms/step - loss: 0.0685 - accuracy: 0.9937 - val_loss: 0.0809 - val_accuracy: 0.9793\n",
      "Epoch 8/100\n",
      "55/55 [==============================] - 0s 4ms/step - loss: 0.0504 - accuracy: 0.9971 - val_loss: 0.0709 - val_accuracy: 0.9793\n",
      "Epoch 9/100\n",
      "55/55 [==============================] - 0s 4ms/step - loss: 0.0405 - accuracy: 0.9977 - val_loss: 0.0640 - val_accuracy: 0.9793\n",
      "Epoch 10/100\n",
      "55/55 [==============================] - 0s 4ms/step - loss: 0.0328 - accuracy: 0.9988 - val_loss: 0.0588 - val_accuracy: 0.9793\n",
      "Epoch 11/100\n",
      "55/55 [==============================] - 0s 3ms/step - loss: 0.0293 - accuracy: 0.9988 - val_loss: 0.0550 - val_accuracy: 0.9793\n",
      "Epoch 12/100\n",
      "55/55 [==============================] - 0s 3ms/step - loss: 0.0228 - accuracy: 1.0000 - val_loss: 0.0515 - val_accuracy: 0.9845\n",
      "Epoch 13/100\n",
      "55/55 [==============================] - 0s 3ms/step - loss: 0.0201 - accuracy: 1.0000 - val_loss: 0.0491 - val_accuracy: 0.9793\n",
      "Epoch 14/100\n",
      "55/55 [==============================] - 0s 3ms/step - loss: 0.0159 - accuracy: 1.0000 - val_loss: 0.0475 - val_accuracy: 0.9793\n",
      "Epoch 15/100\n",
      "55/55 [==============================] - 0s 4ms/step - loss: 0.0143 - accuracy: 1.0000 - val_loss: 0.0459 - val_accuracy: 0.9793\n",
      "Epoch 16/100\n",
      "55/55 [==============================] - 0s 4ms/step - loss: 0.0138 - accuracy: 1.0000 - val_loss: 0.0441 - val_accuracy: 0.9793\n",
      "Epoch 17/100\n",
      "55/55 [==============================] - 0s 3ms/step - loss: 0.0119 - accuracy: 1.0000 - val_loss: 0.0436 - val_accuracy: 0.9793\n",
      "Epoch 18/100\n",
      "55/55 [==============================] - 0s 3ms/step - loss: 0.0107 - accuracy: 0.9994 - val_loss: 0.0426 - val_accuracy: 0.9793\n",
      "Epoch 19/100\n",
      "55/55 [==============================] - 0s 4ms/step - loss: 0.0094 - accuracy: 1.0000 - val_loss: 0.0421 - val_accuracy: 0.9793\n",
      "Epoch 20/100\n",
      "55/55 [==============================] - 0s 3ms/step - loss: 0.0080 - accuracy: 1.0000 - val_loss: 0.0414 - val_accuracy: 0.9793\n",
      "Epoch 21/100\n",
      "55/55 [==============================] - 0s 4ms/step - loss: 0.0081 - accuracy: 1.0000 - val_loss: 0.0410 - val_accuracy: 0.9793\n",
      "Epoch 22/100\n",
      "55/55 [==============================] - 0s 3ms/step - loss: 0.0070 - accuracy: 1.0000 - val_loss: 0.0403 - val_accuracy: 0.9793\n",
      "Epoch 23/100\n",
      "55/55 [==============================] - 0s 3ms/step - loss: 0.0071 - accuracy: 1.0000 - val_loss: 0.0404 - val_accuracy: 0.9793\n",
      "Epoch 24/100\n",
      "55/55 [==============================] - 0s 4ms/step - loss: 0.0058 - accuracy: 1.0000 - val_loss: 0.0403 - val_accuracy: 0.9793\n",
      "Epoch 25/100\n",
      "55/55 [==============================] - 0s 3ms/step - loss: 0.0054 - accuracy: 1.0000 - val_loss: 0.0412 - val_accuracy: 0.9793\n",
      "Epoch 26/100\n",
      "55/55 [==============================] - 0s 4ms/step - loss: 0.0054 - accuracy: 1.0000 - val_loss: 0.0414 - val_accuracy: 0.9793\n",
      "Epoch 27/100\n",
      "55/55 [==============================] - 0s 4ms/step - loss: 0.0059 - accuracy: 1.0000 - val_loss: 0.0404 - val_accuracy: 0.9793\n",
      "Epoch 28/100\n",
      "55/55 [==============================] - 0s 4ms/step - loss: 0.0042 - accuracy: 1.0000 - val_loss: 0.0403 - val_accuracy: 0.9793\n",
      "Epoch 29/100\n",
      "55/55 [==============================] - 0s 3ms/step - loss: 0.0044 - accuracy: 0.9994 - val_loss: 0.0398 - val_accuracy: 0.9793\n",
      "Epoch 30/100\n",
      "55/55 [==============================] - 0s 4ms/step - loss: 0.0043 - accuracy: 1.0000 - val_loss: 0.0393 - val_accuracy: 0.9793\n",
      "Epoch 31/100\n",
      "55/55 [==============================] - 0s 3ms/step - loss: 0.0036 - accuracy: 1.0000 - val_loss: 0.0393 - val_accuracy: 0.9793\n",
      "Epoch 32/100\n",
      "55/55 [==============================] - 0s 4ms/step - loss: 0.0042 - accuracy: 0.9994 - val_loss: 0.0389 - val_accuracy: 0.9793\n",
      "Epoch 33/100\n",
      "55/55 [==============================] - 0s 4ms/step - loss: 0.0039 - accuracy: 1.0000 - val_loss: 0.0384 - val_accuracy: 0.9845\n",
      "Epoch 34/100\n",
      "55/55 [==============================] - 0s 4ms/step - loss: 0.0035 - accuracy: 1.0000 - val_loss: 0.0389 - val_accuracy: 0.9793\n",
      "Epoch 35/100\n",
      "55/55 [==============================] - 0s 4ms/step - loss: 0.0025 - accuracy: 1.0000 - val_loss: 0.0387 - val_accuracy: 0.9793\n",
      "Epoch 36/100\n",
      "55/55 [==============================] - 0s 4ms/step - loss: 0.0029 - accuracy: 1.0000 - val_loss: 0.0386 - val_accuracy: 0.9845\n",
      "Epoch 37/100\n",
      "55/55 [==============================] - 0s 3ms/step - loss: 0.0028 - accuracy: 1.0000 - val_loss: 0.0376 - val_accuracy: 0.9845\n",
      "Epoch 38/100\n",
      "55/55 [==============================] - 0s 4ms/step - loss: 0.0027 - accuracy: 1.0000 - val_loss: 0.0377 - val_accuracy: 0.9793\n",
      "Epoch 39/100\n",
      "55/55 [==============================] - 0s 3ms/step - loss: 0.0022 - accuracy: 1.0000 - val_loss: 0.0378 - val_accuracy: 0.9793\n",
      "Epoch 40/100\n",
      "55/55 [==============================] - 0s 4ms/step - loss: 0.0026 - accuracy: 1.0000 - val_loss: 0.0374 - val_accuracy: 0.9845\n",
      "Epoch 41/100\n",
      "55/55 [==============================] - 0s 4ms/step - loss: 0.0029 - accuracy: 0.9994 - val_loss: 0.0388 - val_accuracy: 0.9845\n",
      "Epoch 42/100\n",
      "55/55 [==============================] - 0s 4ms/step - loss: 0.0023 - accuracy: 1.0000 - val_loss: 0.0405 - val_accuracy: 0.9793\n",
      "Epoch 43/100\n",
      "55/55 [==============================] - 0s 4ms/step - loss: 0.0020 - accuracy: 1.0000 - val_loss: 0.0403 - val_accuracy: 0.9845\n",
      "Epoch 44/100\n",
      "55/55 [==============================] - 0s 4ms/step - loss: 0.0025 - accuracy: 1.0000 - val_loss: 0.0391 - val_accuracy: 0.9845\n",
      "Epoch 45/100\n",
      "55/55 [==============================] - 0s 4ms/step - loss: 0.0022 - accuracy: 1.0000 - val_loss: 0.0394 - val_accuracy: 0.9845\n",
      "Epoch 46/100\n",
      "55/55 [==============================] - 0s 4ms/step - loss: 0.0018 - accuracy: 1.0000 - val_loss: 0.0395 - val_accuracy: 0.9845\n",
      "Epoch 47/100\n",
      "55/55 [==============================] - 0s 4ms/step - loss: 0.0022 - accuracy: 1.0000 - val_loss: 0.0387 - val_accuracy: 0.9793\n",
      "Epoch 48/100\n",
      "55/55 [==============================] - 0s 4ms/step - loss: 0.0020 - accuracy: 1.0000 - val_loss: 0.0382 - val_accuracy: 0.9793\n",
      "Epoch 49/100\n",
      "55/55 [==============================] - 0s 4ms/step - loss: 0.0016 - accuracy: 1.0000 - val_loss: 0.0386 - val_accuracy: 0.9845\n",
      "Epoch 50/100\n",
      "55/55 [==============================] - 0s 4ms/step - loss: 0.0019 - accuracy: 1.0000 - val_loss: 0.0396 - val_accuracy: 0.9845\n",
      "Epoch 51/100\n",
      "55/55 [==============================] - 0s 4ms/step - loss: 0.0015 - accuracy: 1.0000 - val_loss: 0.0393 - val_accuracy: 0.9845\n",
      "Epoch 52/100\n",
      "55/55 [==============================] - 0s 4ms/step - loss: 0.0017 - accuracy: 0.9994 - val_loss: 0.0379 - val_accuracy: 0.9845\n",
      "Epoch 53/100\n",
      "55/55 [==============================] - 0s 4ms/step - loss: 0.0013 - accuracy: 1.0000 - val_loss: 0.0384 - val_accuracy: 0.9845\n",
      "Epoch 54/100\n",
      "55/55 [==============================] - 0s 3ms/step - loss: 0.0020 - accuracy: 0.9994 - val_loss: 0.0372 - val_accuracy: 0.9793\n",
      "Epoch 55/100\n",
      "55/55 [==============================] - 0s 4ms/step - loss: 0.0013 - accuracy: 1.0000 - val_loss: 0.0381 - val_accuracy: 0.9845\n",
      "Epoch 56/100\n",
      "55/55 [==============================] - 0s 4ms/step - loss: 0.0013 - accuracy: 1.0000 - val_loss: 0.0386 - val_accuracy: 0.9845\n",
      "Epoch 57/100\n",
      "55/55 [==============================] - 0s 4ms/step - loss: 0.0012 - accuracy: 1.0000 - val_loss: 0.0391 - val_accuracy: 0.9845\n",
      "Epoch 58/100\n",
      "55/55 [==============================] - 0s 4ms/step - loss: 0.0011 - accuracy: 1.0000 - val_loss: 0.0400 - val_accuracy: 0.9845\n"
     ]
    },
    {
     "name": "stdout",
     "output_type": "stream",
     "text": [
      "Epoch 59/100\n",
      "55/55 [==============================] - 0s 3ms/step - loss: 0.0013 - accuracy: 1.0000 - val_loss: 0.0403 - val_accuracy: 0.9845\n",
      "Epoch 60/100\n",
      "55/55 [==============================] - 0s 4ms/step - loss: 0.0011 - accuracy: 1.0000 - val_loss: 0.0403 - val_accuracy: 0.9845\n",
      "Epoch 61/100\n",
      "55/55 [==============================] - 0s 3ms/step - loss: 0.0012 - accuracy: 1.0000 - val_loss: 0.0401 - val_accuracy: 0.9845\n",
      "Epoch 62/100\n",
      "55/55 [==============================] - 0s 3ms/step - loss: 0.0013 - accuracy: 1.0000 - val_loss: 0.0406 - val_accuracy: 0.9845\n",
      "Epoch 63/100\n",
      "55/55 [==============================] - 0s 3ms/step - loss: 9.8411e-04 - accuracy: 1.0000 - val_loss: 0.0404 - val_accuracy: 0.9845\n",
      "Epoch 64/100\n",
      "55/55 [==============================] - 0s 4ms/step - loss: 7.6744e-04 - accuracy: 1.0000 - val_loss: 0.0407 - val_accuracy: 0.9845\n",
      "Epoch 65/100\n",
      "55/55 [==============================] - 0s 4ms/step - loss: 7.9765e-04 - accuracy: 1.0000 - val_loss: 0.0408 - val_accuracy: 0.9845\n",
      "Epoch 66/100\n",
      "55/55 [==============================] - 0s 3ms/step - loss: 8.9803e-04 - accuracy: 1.0000 - val_loss: 0.0398 - val_accuracy: 0.9845\n",
      "Epoch 67/100\n",
      "55/55 [==============================] - 0s 4ms/step - loss: 9.0259e-04 - accuracy: 1.0000 - val_loss: 0.0395 - val_accuracy: 0.9845\n",
      "Epoch 68/100\n",
      "55/55 [==============================] - 0s 3ms/step - loss: 0.0011 - accuracy: 1.0000 - val_loss: 0.0399 - val_accuracy: 0.9845\n",
      "Epoch 69/100\n",
      "55/55 [==============================] - 0s 3ms/step - loss: 7.4337e-04 - accuracy: 1.0000 - val_loss: 0.0397 - val_accuracy: 0.9845\n",
      "Epoch 70/100\n",
      "55/55 [==============================] - 0s 3ms/step - loss: 7.5184e-04 - accuracy: 1.0000 - val_loss: 0.0392 - val_accuracy: 0.9845\n",
      "Epoch 71/100\n",
      "55/55 [==============================] - 0s 3ms/step - loss: 7.8894e-04 - accuracy: 1.0000 - val_loss: 0.0395 - val_accuracy: 0.9845\n",
      "Epoch 72/100\n",
      "55/55 [==============================] - 0s 4ms/step - loss: 7.5609e-04 - accuracy: 1.0000 - val_loss: 0.0381 - val_accuracy: 0.9845\n",
      "Epoch 73/100\n",
      "55/55 [==============================] - 0s 3ms/step - loss: 0.0012 - accuracy: 1.0000 - val_loss: 0.0348 - val_accuracy: 0.9845\n",
      "Epoch 74/100\n",
      "55/55 [==============================] - 0s 4ms/step - loss: 0.0015 - accuracy: 0.9994 - val_loss: 0.0364 - val_accuracy: 0.9845\n",
      "Epoch 75/100\n",
      "55/55 [==============================] - 0s 4ms/step - loss: 9.5368e-04 - accuracy: 1.0000 - val_loss: 0.0345 - val_accuracy: 0.9845\n",
      "Epoch 76/100\n",
      "55/55 [==============================] - 0s 3ms/step - loss: 0.0015 - accuracy: 0.9994 - val_loss: 0.0332 - val_accuracy: 0.9845\n",
      "Epoch 77/100\n",
      "55/55 [==============================] - 0s 3ms/step - loss: 7.0451e-04 - accuracy: 1.0000 - val_loss: 0.0335 - val_accuracy: 0.9845\n",
      "Epoch 78/100\n",
      "55/55 [==============================] - 0s 3ms/step - loss: 7.4950e-04 - accuracy: 1.0000 - val_loss: 0.0342 - val_accuracy: 0.9896\n",
      "Epoch 79/100\n",
      "55/55 [==============================] - 0s 3ms/step - loss: 6.2044e-04 - accuracy: 1.0000 - val_loss: 0.0358 - val_accuracy: 0.9845\n",
      "Epoch 80/100\n",
      "55/55 [==============================] - 0s 4ms/step - loss: 7.7555e-04 - accuracy: 1.0000 - val_loss: 0.0351 - val_accuracy: 0.9845\n",
      "Epoch 81/100\n",
      "55/55 [==============================] - 0s 3ms/step - loss: 0.0018 - accuracy: 0.9994 - val_loss: 0.0331 - val_accuracy: 0.9845\n",
      "Epoch 82/100\n",
      "55/55 [==============================] - 0s 3ms/step - loss: 6.5272e-04 - accuracy: 1.0000 - val_loss: 0.0334 - val_accuracy: 0.9896\n",
      "Epoch 83/100\n",
      "55/55 [==============================] - 0s 3ms/step - loss: 9.7522e-04 - accuracy: 1.0000 - val_loss: 0.0357 - val_accuracy: 0.9845\n",
      "Epoch 84/100\n",
      "55/55 [==============================] - 0s 4ms/step - loss: 7.1553e-04 - accuracy: 1.0000 - val_loss: 0.0344 - val_accuracy: 0.9845\n",
      "Epoch 85/100\n",
      "55/55 [==============================] - 0s 3ms/step - loss: 5.6302e-04 - accuracy: 1.0000 - val_loss: 0.0350 - val_accuracy: 0.9845\n",
      "Epoch 86/100\n",
      "55/55 [==============================] - 0s 3ms/step - loss: 5.0703e-04 - accuracy: 1.0000 - val_loss: 0.0351 - val_accuracy: 0.9845\n",
      "Epoch 87/100\n",
      "55/55 [==============================] - 0s 3ms/step - loss: 6.8082e-04 - accuracy: 1.0000 - val_loss: 0.0350 - val_accuracy: 0.9845\n",
      "Epoch 88/100\n",
      "55/55 [==============================] - 0s 3ms/step - loss: 9.9313e-04 - accuracy: 0.9994 - val_loss: 0.0344 - val_accuracy: 0.9896\n",
      "Epoch 89/100\n",
      "55/55 [==============================] - 0s 3ms/step - loss: 7.0684e-04 - accuracy: 1.0000 - val_loss: 0.0336 - val_accuracy: 0.9896\n",
      "Epoch 90/100\n",
      "55/55 [==============================] - 0s 3ms/step - loss: 5.5794e-04 - accuracy: 1.0000 - val_loss: 0.0331 - val_accuracy: 0.9896\n",
      "Epoch 91/100\n",
      "55/55 [==============================] - 0s 4ms/step - loss: 5.8758e-04 - accuracy: 1.0000 - val_loss: 0.0336 - val_accuracy: 0.9896\n",
      "Epoch 92/100\n",
      "55/55 [==============================] - 0s 4ms/step - loss: 4.3699e-04 - accuracy: 1.0000 - val_loss: 0.0346 - val_accuracy: 0.9896\n",
      "Epoch 93/100\n",
      "55/55 [==============================] - 0s 4ms/step - loss: 5.2244e-04 - accuracy: 1.0000 - val_loss: 0.0356 - val_accuracy: 0.9845\n",
      "Epoch 94/100\n",
      "55/55 [==============================] - 0s 4ms/step - loss: 3.4056e-04 - accuracy: 1.0000 - val_loss: 0.0358 - val_accuracy: 0.9845\n",
      "Epoch 95/100\n",
      "55/55 [==============================] - 0s 4ms/step - loss: 0.0013 - accuracy: 0.9994 - val_loss: 0.0359 - val_accuracy: 0.9845\n",
      "Epoch 96/100\n",
      "55/55 [==============================] - 0s 4ms/step - loss: 4.8914e-04 - accuracy: 1.0000 - val_loss: 0.0360 - val_accuracy: 0.9845\n",
      "Epoch 97/100\n",
      "55/55 [==============================] - 0s 4ms/step - loss: 3.4531e-04 - accuracy: 1.0000 - val_loss: 0.0358 - val_accuracy: 0.9845\n",
      "Epoch 98/100\n",
      "55/55 [==============================] - 0s 4ms/step - loss: 5.1048e-04 - accuracy: 1.0000 - val_loss: 0.0349 - val_accuracy: 0.9845\n",
      "Epoch 99/100\n",
      "55/55 [==============================] - 0s 4ms/step - loss: 4.9593e-04 - accuracy: 1.0000 - val_loss: 0.0364 - val_accuracy: 0.9845\n",
      "Epoch 100/100\n",
      "55/55 [==============================] - 0s 4ms/step - loss: 3.2342e-04 - accuracy: 1.0000 - val_loss: 0.0367 - val_accuracy: 0.9845\n"
     ]
    }
   ],
   "source": [
    "historico = modelo_rna.fit(x=x_train, \n",
    "                           y=y_train,\n",
    "                           epochs=100,\n",
    "                           batch_size=32,\n",
    "                           validation_split=0.1,\n",
    "                           verbose=1)"
   ]
  },
  {
   "cell_type": "code",
   "execution_count": 49,
   "id": "40505b40",
   "metadata": {},
   "outputs": [
    {
     "name": "stdout",
     "output_type": "stream",
     "text": [
      "Acurácia do modelo: 97.09 %\n"
     ]
    }
   ],
   "source": [
    "# Avaliação do modelo\n",
    "resultado_teste = modelo_rna.evaluate(x_test, y_test, verbose=0)\n",
    "\n",
    "# Acurácia\n",
    "acuracia = resultado_teste[1]\n",
    "print(\"Acurácia do modelo:\", round((acuracia*100),2), \"%\")"
   ]
  },
  {
   "cell_type": "code",
   "execution_count": 50,
   "id": "dbe913d2",
   "metadata": {},
   "outputs": [
    {
     "data": {
      "image/png": "[encoded data removed]",
      "text/plain": [
       "<Figure size 800x800 with 1 Axes>"
      ]
     },
     "metadata": {},
     "output_type": "display_data"
    }
   ],
   "source": [
    "# Pacotes gráficos\n",
    "%matplotlib inline\n",
    "import matplotlib.pyplot as plt\n",
    "\n",
    "# Acurácia do teste\n",
    "acuracia_teste = historico.history['val_accuracy']\n",
    "\n",
    "# Gráfico com a evolução do treinamento\n",
    "plt.figure(figsize=(8, 8))\n",
    "plt.style.use('ggplot')\n",
    "plt.plot(acuracia_teste)\n",
    "plt.title('Desempenho do Modelo no Conjunto de Teste')\n",
    "plt.ylabel('Acurácia')\n",
    "plt.xlabel('Épocas')\n",
    "plt.show()\n"
   ]
  },
  {
   "cell_type": "markdown",
   "id": "bc676790",
   "metadata": {},
   "source": [
    "**Acho que estamos próximo de um overfit, vamos ajustar as épocas ao testar os parametros**"
   ]
  },
  {
   "cell_type": "markdown",
   "id": "4c130d89",
   "metadata": {},
   "source": [
    "###  Melhorando os hiperparamentros"
   ]
  },
  {
   "cell_type": "code",
   "execution_count": 51,
   "id": "4f2b5ab3",
   "metadata": {},
   "outputs": [],
   "source": [
    "def treina_rna(x_train, y_train, x_test, y_test, nnc1, nnc2):\n",
    "    # Definição do Modelo RNA\n",
    "    model = keras.Sequential([\n",
    "        layers.Dense(nnc1, activation='relu', input_dim=x_train.shape[1]),\n",
    "        layers.Dense(nnc2, activation='relu'),\n",
    "        layers.Dense(3, activation='softmax')  # Ajuste para 3 classes de saída\n",
    "    ])\n",
    "\n",
    "    # Compilação do Modelo\n",
    "    model.compile(loss='sparse_categorical_crossentropy', \n",
    "                  optimizer='adam',\n",
    "                  metrics=['accuracy'])\n",
    "\n",
    "    # Treinamento do Modelo RNA\n",
    "    historico = model.fit(x=x_train, \n",
    "                          y=y_train,\n",
    "                          epochs=50,  # Reduzindo para 50 épocas\n",
    "                          batch_size=32,\n",
    "                          validation_split=0.1,\n",
    "                          verbose=0)\n",
    "\n",
    "    # Avaliação do Desempenho do Modelo RNA no conjunto de teste\n",
    "    _, metric_test = model.evaluate(x_test, y_test, verbose=0)\n",
    "\n",
    "    return model, metric_test\n"
   ]
  },
  {
   "cell_type": "code",
   "execution_count": 56,
   "id": "69fc1a6c",
   "metadata": {},
   "outputs": [
    {
     "name": "stdout",
     "output_type": "stream",
     "text": [
      "Treinando Modelo 0\n",
      "Treinando Modelo 1\n",
      "Treinando Modelo 2\n",
      "Treinando Modelo 3\n",
      "Treinando Modelo 4\n",
      "Treinando Modelo 5\n",
      "Treinando Modelo 6\n",
      "Treinando Modelo 7\n",
      "Treinando Modelo 8\n",
      "Treinando Modelo 9\n",
      "Treinando Modelo 10\n",
      "Treinando Modelo 11\n",
      "Treinando Modelo 12\n",
      "Treinando Modelo 13\n",
      "Treinando Modelo 14\n",
      "Treinando Modelo 15\n",
      "Wall time: 2min 37s\n"
     ]
    }
   ],
   "source": [
    "%%time\n",
    "lst_models = list()\n",
    "lst_nnc1 = list()\n",
    "lst_nnc2 = list()\n",
    "acc_test = list()\n",
    "\n",
    "id_model = 0\n",
    "for nnc1 in range(8, 12):\n",
    "    for nnc2 in range(8, 12):\n",
    "        print(f'Treinando Modelo {id_model}')\n",
    "        lst_nnc1.append(nnc1)\n",
    "        lst_nnc2.append(nnc2)\n",
    "        modelo, acc = treina_rna(x_train, y_train, \n",
    "                                 x_test, y_test,\n",
    "                                 nnc1, nnc2)\n",
    "        lst_models.append(modelo)\n",
    "        acc_test.append(acc)\n",
    "        id_model += 1\n"
   ]
  },
  {
   "cell_type": "code",
   "execution_count": 57,
   "id": "70e48be4",
   "metadata": {},
   "outputs": [
    {
     "data": {
      "text/html": [
       "<div>\n",
       "<style scoped>\n",
       "    .dataframe tbody tr th:only-of-type {\n",
       "        vertical-align: middle;\n",
       "    }\n",
       "\n",
       "    .dataframe tbody tr th {\n",
       "        vertical-align: top;\n",
       "    }\n",
       "\n",
       "    .dataframe thead th {\n",
       "        text-align: right;\n",
       "    }\n",
       "</style>\n",
       "<table border=\"1\" class=\"dataframe\">\n",
       "  <thead>\n",
       "    <tr style=\"text-align: right;\">\n",
       "      <th></th>\n",
       "      <th>Num Neuronios C1</th>\n",
       "      <th>Num Neuronios C2</th>\n",
       "      <th>Accuracy Test</th>\n",
       "      <th>Modelo</th>\n",
       "    </tr>\n",
       "  </thead>\n",
       "  <tbody>\n",
       "    <tr>\n",
       "      <th>10</th>\n",
       "      <td>10</td>\n",
       "      <td>10</td>\n",
       "      <td>0.976998</td>\n",
       "      <td>&lt;keras.engine.sequential.Sequential object at ...</td>\n",
       "    </tr>\n",
       "    <tr>\n",
       "      <th>9</th>\n",
       "      <td>10</td>\n",
       "      <td>9</td>\n",
       "      <td>0.970944</td>\n",
       "      <td>&lt;keras.engine.sequential.Sequential object at ...</td>\n",
       "    </tr>\n",
       "    <tr>\n",
       "      <th>5</th>\n",
       "      <td>9</td>\n",
       "      <td>9</td>\n",
       "      <td>0.967312</td>\n",
       "      <td>&lt;keras.engine.sequential.Sequential object at ...</td>\n",
       "    </tr>\n",
       "    <tr>\n",
       "      <th>6</th>\n",
       "      <td>9</td>\n",
       "      <td>10</td>\n",
       "      <td>0.967312</td>\n",
       "      <td>&lt;keras.engine.sequential.Sequential object at ...</td>\n",
       "    </tr>\n",
       "    <tr>\n",
       "      <th>15</th>\n",
       "      <td>11</td>\n",
       "      <td>11</td>\n",
       "      <td>0.966102</td>\n",
       "      <td>&lt;keras.engine.sequential.Sequential object at ...</td>\n",
       "    </tr>\n",
       "    <tr>\n",
       "      <th>13</th>\n",
       "      <td>11</td>\n",
       "      <td>9</td>\n",
       "      <td>0.964891</td>\n",
       "      <td>&lt;keras.engine.sequential.Sequential object at ...</td>\n",
       "    </tr>\n",
       "    <tr>\n",
       "      <th>0</th>\n",
       "      <td>8</td>\n",
       "      <td>8</td>\n",
       "      <td>0.963680</td>\n",
       "      <td>&lt;keras.engine.sequential.Sequential object at ...</td>\n",
       "    </tr>\n",
       "    <tr>\n",
       "      <th>1</th>\n",
       "      <td>8</td>\n",
       "      <td>9</td>\n",
       "      <td>0.963680</td>\n",
       "      <td>&lt;keras.engine.sequential.Sequential object at ...</td>\n",
       "    </tr>\n",
       "    <tr>\n",
       "      <th>8</th>\n",
       "      <td>10</td>\n",
       "      <td>8</td>\n",
       "      <td>0.963680</td>\n",
       "      <td>&lt;keras.engine.sequential.Sequential object at ...</td>\n",
       "    </tr>\n",
       "    <tr>\n",
       "      <th>2</th>\n",
       "      <td>8</td>\n",
       "      <td>10</td>\n",
       "      <td>0.962470</td>\n",
       "      <td>&lt;keras.engine.sequential.Sequential object at ...</td>\n",
       "    </tr>\n",
       "    <tr>\n",
       "      <th>3</th>\n",
       "      <td>8</td>\n",
       "      <td>11</td>\n",
       "      <td>0.962470</td>\n",
       "      <td>&lt;keras.engine.sequential.Sequential object at ...</td>\n",
       "    </tr>\n",
       "    <tr>\n",
       "      <th>7</th>\n",
       "      <td>9</td>\n",
       "      <td>11</td>\n",
       "      <td>0.960048</td>\n",
       "      <td>&lt;keras.engine.sequential.Sequential object at ...</td>\n",
       "    </tr>\n",
       "    <tr>\n",
       "      <th>12</th>\n",
       "      <td>11</td>\n",
       "      <td>8</td>\n",
       "      <td>0.960048</td>\n",
       "      <td>&lt;keras.engine.sequential.Sequential object at ...</td>\n",
       "    </tr>\n",
       "    <tr>\n",
       "      <th>14</th>\n",
       "      <td>11</td>\n",
       "      <td>10</td>\n",
       "      <td>0.958838</td>\n",
       "      <td>&lt;keras.engine.sequential.Sequential object at ...</td>\n",
       "    </tr>\n",
       "    <tr>\n",
       "      <th>4</th>\n",
       "      <td>9</td>\n",
       "      <td>8</td>\n",
       "      <td>0.956416</td>\n",
       "      <td>&lt;keras.engine.sequential.Sequential object at ...</td>\n",
       "    </tr>\n",
       "    <tr>\n",
       "      <th>11</th>\n",
       "      <td>10</td>\n",
       "      <td>11</td>\n",
       "      <td>0.955206</td>\n",
       "      <td>&lt;keras.engine.sequential.Sequential object at ...</td>\n",
       "    </tr>\n",
       "  </tbody>\n",
       "</table>\n",
       "</div>"
      ],
      "text/plain": [
       "    Num Neuronios C1  Num Neuronios C2  Accuracy Test  \\\n",
       "10                10                10       0.976998   \n",
       "9                 10                 9       0.970944   \n",
       "5                  9                 9       0.967312   \n",
       "6                  9                10       0.967312   \n",
       "15                11                11       0.966102   \n",
       "13                11                 9       0.964891   \n",
       "0                  8                 8       0.963680   \n",
       "1                  8                 9       0.963680   \n",
       "8                 10                 8       0.963680   \n",
       "2                  8                10       0.962470   \n",
       "3                  8                11       0.962470   \n",
       "7                  9                11       0.960048   \n",
       "12                11                 8       0.960048   \n",
       "14                11                10       0.958838   \n",
       "4                  9                 8       0.956416   \n",
       "11                10                11       0.955206   \n",
       "\n",
       "                                               Modelo  \n",
       "10  <keras.engine.sequential.Sequential object at ...  \n",
       "9   <keras.engine.sequential.Sequential object at ...  \n",
       "5   <keras.engine.sequential.Sequential object at ...  \n",
       "6   <keras.engine.sequential.Sequential object at ...  \n",
       "15  <keras.engine.sequential.Sequential object at ...  \n",
       "13  <keras.engine.sequential.Sequential object at ...  \n",
       "0   <keras.engine.sequential.Sequential object at ...  \n",
       "1   <keras.engine.sequential.Sequential object at ...  \n",
       "8   <keras.engine.sequential.Sequential object at ...  \n",
       "2   <keras.engine.sequential.Sequential object at ...  \n",
       "3   <keras.engine.sequential.Sequential object at ...  \n",
       "7   <keras.engine.sequential.Sequential object at ...  \n",
       "12  <keras.engine.sequential.Sequential object at ...  \n",
       "14  <keras.engine.sequential.Sequential object at ...  \n",
       "4   <keras.engine.sequential.Sequential object at ...  \n",
       "11  <keras.engine.sequential.Sequential object at ...  "
      ]
     },
     "execution_count": 57,
     "metadata": {},
     "output_type": "execute_result"
    }
   ],
   "source": [
    "busca_rna = pd.DataFrame(list(zip(lst_nnc1, lst_nnc2, acc_test, lst_models)), \n",
    "                        columns=['Num Neuronios C1',\n",
    "                                 'Num Neuronios C2',\n",
    "                                 'Accuracy Test',\n",
    "                                 'Modelo'\n",
    "                                ])\n",
    "\n",
    "busca_rna.sort_values('Accuracy Test', ascending=False)"
   ]
  },
  {
   "cell_type": "markdown",
   "id": "d4fd3f81",
   "metadata": {},
   "source": [
    "**O modelo 10 é o melhor pela acurácia (não esqueci que tem outras métricas) dentre os modelos testados**"
   ]
  },
  {
   "cell_type": "code",
   "execution_count": 58,
   "id": "1b8f2ef5",
   "metadata": {},
   "outputs": [
    {
     "data": {
      "text/plain": [
       "<keras.engine.sequential.Sequential at 0x2b9283db7f0>"
      ]
     },
     "execution_count": 58,
     "metadata": {},
     "output_type": "execute_result"
    }
   ],
   "source": [
    "modelo_selecionado = busca_rna.loc[10]['Modelo']\n",
    "modelo_selecionado"
   ]
  },
  {
   "cell_type": "code",
   "execution_count": 59,
   "id": "374b755b",
   "metadata": {},
   "outputs": [
    {
     "data": {
      "text/plain": [
       "['modelo_redes_neurais.pkl']"
      ]
     },
     "execution_count": 59,
     "metadata": {},
     "output_type": "execute_result"
    }
   ],
   "source": [
    "# Exportando o modelo para um arquivo\n",
    "joblib.dump(modelo_selecionado, 'modelo_redes_neurais.pkl')"
   ]
  },
  {
   "cell_type": "code",
   "execution_count": 62,
   "id": "c3b6b82f",
   "metadata": {},
   "outputs": [
    {
     "name": "stdout",
     "output_type": "stream",
     "text": [
      "Digite uma frase (ou 'exit' para sair): inglês\n",
      "inglês -> Inglês\n",
      "Digite uma frase (ou 'exit' para sair): africaner\n",
      "africaner -> Inglês\n",
      "Digite uma frase (ou 'exit' para sair): holandes\n",
      "holandes -> Inglês\n",
      "Digite uma frase (ou 'exit' para sair): exit\n",
      "Programa encerrado.\n"
     ]
    }
   ],
   "source": [
    "import pandas as pd\n",
    "import joblib\n",
    "from sklearn.feature_extraction.text import CountVectorizer\n",
    "import tensorflow as tf\n",
    "\n",
    "# Carregando os stop words\n",
    "df_stop = pd.read_csv('stop_words.csv')\n",
    "\n",
    "# Carregando o modelo a partir do arquivo\n",
    "modelo = joblib.load('modelo_redes_neurais.pkl')\n",
    "\n",
    "# Mapeamento das classes\n",
    "mapa_classes = {\n",
    "    0: 'Africaner',\n",
    "    1: 'Inglês',\n",
    "    2: 'Holandês'\n",
    "}\n",
    "\n",
    "# Ajustar o CountVectorizer\n",
    "countvec = CountVectorizer(ngram_range=(1, 2))\n",
    "countvec.fit(df_stop['text'])\n",
    "\n",
    "# Função de previsão eficiente usando TensorFlow\n",
    "def prever_classe(frase_vetorizada):\n",
    "    return modelo.predict(frase_vetorizada, verbose=0)\n",
    "\n",
    "while True:\n",
    "    frase = input(\"Digite uma frase (ou 'exit' para sair): \")\n",
    "    if frase.lower() == 'exit':\n",
    "        print(\"Programa encerrado.\")\n",
    "        break\n",
    "\n",
    "    # Vetorização da frase de teste usando o mesmo CountVectorizer ajustado\n",
    "    frase_vetorizada = countvec.transform([frase])\n",
    "\n",
    "    # Converter a matriz esparsa em um tensor\n",
    "    frase_vetorizada_tensor = tf.convert_to_tensor(frase_vetorizada.toarray())\n",
    "\n",
    "    # Fazer a previsão\n",
    "    classe_prevista_prob = prever_classe(frase_vetorizada_tensor)\n",
    "    classe_prevista = tf.argmax(classe_prevista_prob, axis=1).numpy()[0]\n",
    "    classe_prevista_nome = mapa_classes[classe_prevista]\n",
    "    print(frase, \"->\", classe_prevista_nome)\n"
   ]
  },
  {
   "cell_type": "code",
   "execution_count": null,
   "id": "a497a328",
   "metadata": {},
   "outputs": [],
   "source": []
  },
  {
   "cell_type": "code",
   "execution_count": null,
   "id": "51eb0d2b",
   "metadata": {},
   "outputs": [],
   "source": []
  },
  {
   "cell_type": "code",
   "execution_count": null,
   "id": "022e6cc3",
   "metadata": {},
   "outputs": [],
   "source": []
  },
  {
   "cell_type": "code",
   "execution_count": null,
   "id": "2c23ad5e",
   "metadata": {},
   "outputs": [],
   "source": []
  },
  {
   "cell_type": "code",
   "execution_count": null,
   "id": "7c1679ff",
   "metadata": {},
   "outputs": [],
   "source": []
  },
  {
   "cell_type": "code",
   "execution_count": null,
   "id": "1375dd66",
   "metadata": {},
   "outputs": [],
   "source": []
  },
  {
   "cell_type": "code",
   "execution_count": null,
   "id": "f02a3f37",
   "metadata": {},
   "outputs": [],
   "source": []
  },
  {
   "cell_type": "code",
   "execution_count": null,
   "id": "1be0e9ca",
   "metadata": {},
   "outputs": [],
   "source": []
  },
  {
   "cell_type": "code",
   "execution_count": null,
   "id": "e01baeb1",
   "metadata": {},
   "outputs": [],
   "source": []
  },
  {
   "cell_type": "code",
   "execution_count": null,
   "id": "37bb6beb",
   "metadata": {},
   "outputs": [],
   "source": []
  },
  {
   "cell_type": "code",
   "execution_count": null,
   "id": "6f8c3445",
   "metadata": {},
   "outputs": [],
   "source": []
  },
  {
   "cell_type": "code",
   "execution_count": null,
   "id": "86a71fe0",
   "metadata": {},
   "outputs": [],
   "source": []
  },
  {
   "cell_type": "code",
   "execution_count": null,
   "id": "46ed8d6b",
   "metadata": {},
   "outputs": [],
   "source": []
  },
  {
   "cell_type": "code",
   "execution_count": null,
   "id": "be6bcd03",
   "metadata": {},
   "outputs": [],
   "source": []
  }
 ],
 "metadata": {
  "kernelspec": {
   "display_name": "Python 3 (ipykernel)",
   "language": "python",
   "name": "python3"
  },
  "language_info": {
   "codemirror_mode": {
    "name": "ipython",
    "version": 3
   },
   "file_extension": ".py",
   "mimetype": "text/x-python",
   "name": "python",
   "nbconvert_exporter": "python",
   "pygments_lexer": "ipython3",
   "version": "3.9.13"
  }
 },
 "nbformat": 4,
 "nbformat_minor": 5
}
